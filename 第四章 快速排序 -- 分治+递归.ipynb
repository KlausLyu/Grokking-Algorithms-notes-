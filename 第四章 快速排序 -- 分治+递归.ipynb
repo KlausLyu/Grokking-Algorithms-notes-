{
 "cells": [
  {
   "cell_type": "markdown",
   "metadata": {},
   "source": [
    "# 第四章 快速排序"
   ]
  },
  {
   "cell_type": "code",
   "execution_count": 1,
   "metadata": {},
   "outputs": [],
   "source": [
    "# 参考链接： https://www.cnblogs.com/NEWzyz/p/8917660.html"
   ]
  },
  {
   "cell_type": "markdown",
   "metadata": {},
   "source": [
    "## 一、分而治之 D&C (divide and conquer)"
   ]
  },
  {
   "cell_type": "markdown",
   "metadata": {},
   "source": [
    "使用D&C解决问题的过程包括两个步骤：\n",
    "- 找出简单的基线条件；\n",
    "- 确定如何缩小问题的规模，使其符合基线条件。"
   ]
  },
  {
   "cell_type": "markdown",
   "metadata": {},
   "source": [
    "### 练习"
   ]
  },
  {
   "cell_type": "code",
   "execution_count": 2,
   "metadata": {},
   "outputs": [],
   "source": [
    "# exercise 4.1: \n",
    "def sumFunc(mylist):\n",
    "    if mylist == []:\n",
    "        return 0\n",
    "    return mylist[0] + sumFunc(mylist[1:])"
   ]
  },
  {
   "cell_type": "code",
   "execution_count": 3,
   "metadata": {},
   "outputs": [
    {
     "data": {
      "text/plain": [
       "55"
      ]
     },
     "execution_count": 3,
     "metadata": {},
     "output_type": "execute_result"
    }
   ],
   "source": [
    "sumFunc([2,4,6,8,10,12,13])"
   ]
  },
  {
   "cell_type": "code",
   "execution_count": 4,
   "metadata": {},
   "outputs": [],
   "source": [
    "# exercise 4.2: \n",
    "def countNum(mylist):\n",
    "    if mylist == []:\n",
    "        return 0\n",
    "    return 1 + countNum(mylist[1:])"
   ]
  },
  {
   "cell_type": "code",
   "execution_count": 5,
   "metadata": {},
   "outputs": [
    {
     "data": {
      "text/plain": [
       "3"
      ]
     },
     "execution_count": 5,
     "metadata": {},
     "output_type": "execute_result"
    }
   ],
   "source": [
    "countNum([3,4,5])"
   ]
  },
  {
   "cell_type": "code",
   "execution_count": 6,
   "metadata": {},
   "outputs": [],
   "source": [
    "# exercise 4.3:  Find the max number of a list\n",
    "def findMax(mylist):\n",
    "    # base case\n",
    "    if len(mylist) == 2:\n",
    "        return mylist[0] if mylist[0] > mylist[1] else mylist[1]\n",
    "    \n",
    "    # recursive case\n",
    "    sub_max = findMax(mylist[1:])\n",
    "    return mylist[0] if mylist[0] > sub_max else sub_max"
   ]
  },
  {
   "cell_type": "code",
   "execution_count": 7,
   "metadata": {},
   "outputs": [
    {
     "data": {
      "text/plain": [
       "90"
      ]
     },
     "execution_count": 7,
     "metadata": {},
     "output_type": "execute_result"
    }
   ],
   "source": [
    "findMax([4,2,7,6,11,43,1,90,9,20])"
   ]
  },
  {
   "cell_type": "code",
   "execution_count": 8,
   "metadata": {},
   "outputs": [],
   "source": [
    "# exercise 4.4:\n",
    "# 二分查找的基线条件是数组只包含一个元素。如果要查找的值与这个元素相同，就找到了！否则说明它不在数组中。\n",
    "# 递归条件为 把数组分成两半，将其中一半丢弃，并对另一半执行二分查找。"
   ]
  },
  {
   "cell_type": "markdown",
   "metadata": {},
   "source": [
    "## 二、快速排序"
   ]
  },
  {
   "cell_type": "markdown",
   "metadata": {},
   "source": [
    "### 1. 原理（步骤）"
   ]
  },
  {
   "cell_type": "markdown",
   "metadata": {},
   "source": [
    "- （1）选择基准值\n",
    "- （2）将数组分成两个子数组：小于基准值的元素和大于基准值的元素\n",
    "- （3）分别对这两个子数组进行快速排序（基于递归思路快排）"
   ]
  },
  {
   "cell_type": "code",
   "execution_count": 9,
   "metadata": {},
   "outputs": [],
   "source": [
    "import numpy as np\n",
    "def quickSort(mylist):\n",
    "    # base case: 空数组或只有一个元素的数组是“有序”的\n",
    "    if len(mylist) < 2:\n",
    "        return mylist\n",
    "    \n",
    "    # recursive case\n",
    "    # 1）基准值: 取数组的第一个元素作为基准值\n",
    "    pivot = mylist[0]\n",
    "    # 2）划分子数组\n",
    "    less = [i for i in mylist[1:] if i <= pivot]    # 小于基准值的元素组成的子数组\n",
    "    large = [j for j in mylist[1:] if j > pivot]    # 大于基准值的元素组成的子数组\n",
    "    # 3）子数组进行快速排序 ---- recursive\n",
    "    left = quickSort(less)\n",
    "    right = quickSort(large)\n",
    "    print(left + [pivot] + right)\n",
    "    \n",
    "    return left + [pivot] + right                   # pivot int数据，需要[]"
   ]
  },
  {
   "cell_type": "code",
   "execution_count": 10,
   "metadata": {},
   "outputs": [
    {
     "name": "stdout",
     "output_type": "stream",
     "text": [
      "[11, 22]\n",
      "[6, 7, 11, 22]\n",
      "[1, 6, 7, 11, 22]\n",
      "[1, 6, 7, 11, 22, 23]\n",
      "[70, 98]\n",
      "[55, 56, 70, 98]\n",
      "[51, 55, 56, 70, 98]\n",
      "[1, 6, 7, 11, 22, 23, 34, 51, 55, 56, 70, 98]\n"
     ]
    },
    {
     "data": {
      "text/plain": [
       "[1, 6, 7, 11, 22, 23, 34, 51, 55, 56, 70, 98]"
      ]
     },
     "execution_count": 10,
     "metadata": {},
     "output_type": "execute_result"
    }
   ],
   "source": [
    "quickSort([34,23,1,51,7,56,22,11,98,6,70,55])"
   ]
  },
  {
   "cell_type": "markdown",
   "metadata": {},
   "source": [
    "### 2. 快速排序的运行时间 大O表示法"
   ]
  },
  {
   "cell_type": "markdown",
   "metadata": {},
   "source": [
    "- 快速排序的独特之处在于，其运行速度高度依赖于选择的基准值。\n",
    "\n",
    "\n",
    "- 快速查找的最糟糕情况：O(n^2);   平均情况: O(n * log n)\n",
    "\n",
    "\n",
    "- 快速查找的常量c（固定时间量）比合并查找小，因此如果它们的运行时间都为O(n * log n)，快速查找的速度将更快。"
   ]
  },
  {
   "cell_type": "markdown",
   "metadata": {},
   "source": [
    "时间复杂度："
   ]
  },
  {
   "cell_type": "markdown",
   "metadata": {},
   "source": [
    "         (a) 最糟糕情况下，调用栈的栈长为O(n)\n",
    "         (b) 最佳情况下，调用栈的栈长为O(log n) --- 即less和large元素接近相等，时间复杂度基本上与二分查找的一致，即O(log n)\n",
    "         \n",
    "- 由于在调用栈的每一层都涉及到所有的元素，因此每一层调用栈的时间复杂度为O(n)。\n",
    "- 最糟糕情况： 运行时间 O(n) * O(n) = O(n^2)\n",
    "- 最佳的情况： 运行时间 O(log n) * O(n) = O(n * log n)"
   ]
  },
  {
   "cell_type": "markdown",
   "metadata": {},
   "source": [
    "**（1）当数据有序时，以第一个关键字为基准分为两个子序列，前一个子序列为空，此时执行效率最差。**\n",
    "\n",
    "**（2）当数据随机分布时，以第一个关键字为基准分为两个子序列，若两个子序列的元素个数接近相等，此时执行效率最好。**\n",
    "- **数据越随机分布时，快速排序性能越好；数据越接近有序，快速排序性能越差。**\n",
    "- **对于无序的序列而言，最佳情况也是平均情况。只要每次都随机选择一个数组元素作为基准值，快速排序的平均运行时间就将是O(n * log n)**"
   ]
  },
  {
   "cell_type": "markdown",
   "metadata": {},
   "source": [
    "## 三、小结"
   ]
  },
  {
   "cell_type": "markdown",
   "metadata": {},
   "source": [
    "- D&C将问题逐步分解。使用D&C处理列表时,基线条件很可能是空数组或只包含一个元素的数组。\n",
    "- 实现快速排序时,请随机地选择用作基准值的元素。快速排序的平均运行时间为O(n log n)。\n",
    "- 大O表示法中的常量有时候事关重大,这就是快速排序比合并排序快的原因所在。\n",
    "- 比较简单查找和二分查找时,常量几乎无关紧要,因为列表很长时, O(log n)的速度比O(n)快得多。"
   ]
  },
  {
   "cell_type": "code",
   "execution_count": null,
   "metadata": {},
   "outputs": [],
   "source": []
  }
 ],
 "metadata": {
  "kernelspec": {
   "display_name": "Python 3",
   "language": "python",
   "name": "python3"
  },
  "language_info": {
   "codemirror_mode": {
    "name": "ipython",
    "version": 3
   },
   "file_extension": ".py",
   "mimetype": "text/x-python",
   "name": "python",
   "nbconvert_exporter": "python",
   "pygments_lexer": "ipython3",
   "version": "3.6.4"
  }
 },
 "nbformat": 4,
 "nbformat_minor": 2
}
