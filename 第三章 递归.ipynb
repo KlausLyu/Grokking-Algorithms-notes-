{
 "cells": [
  {
   "cell_type": "markdown",
   "metadata": {},
   "source": [
    "# 第三章 递归"
   ]
  },
  {
   "cell_type": "markdown",
   "metadata": {},
   "source": [
    "## 1、递归"
   ]
  },
  {
   "cell_type": "markdown",
   "metadata": {},
   "source": [
    "- 递归和循环能实现同样的功能\n",
    "- 递归：让解决方案更清晰，容易理解，并没有性能上的优势（相对于循环）\n",
    "- 如果使用循环，程序的性能可能更高； 如果使用递归，程序可能更容易理解。"
   ]
  },
  {
   "cell_type": "markdown",
   "metadata": {},
   "source": [
    "## 递归函数：基线条件 和 递归条件"
   ]
  },
  {
   "cell_type": "markdown",
   "metadata": {},
   "source": [
    "由于递归函数调用自己，因此编写这样的函数时很容易出错，进而导致无限循环。\n",
    "\n",
    "当我们编写递归函数时，必须告诉它何时停止递归。所以，每个递归函数都有两部分：\n",
    "\n",
    "  - 递归条件（recursive case）：函数调用自己。\n",
    "  - 基线条件（base case）：函数不再调用自己，从而避免无限循环。\n"
   ]
  },
  {
   "cell_type": "code",
   "execution_count": 1,
   "metadata": {},
   "outputs": [
    {
     "name": "stdout",
     "output_type": "stream",
     "text": [
      "5\n",
      "4\n",
      "3\n",
      "2\n",
      "1\n",
      "0\n"
     ]
    }
   ],
   "source": [
    "def countdown(i):\n",
    "    print(i)\n",
    "\n",
    "    # 基线条件: 如果i<=0 就此结束\n",
    "    if i <= 0:\n",
    "        return\n",
    "\n",
    "    # 递归条件: 使用(i-1)调用countdown函数自身\n",
    "    else:\n",
    "        countdown(i-1)\n",
    "\n",
    "countdown(5) # 测试数据"
   ]
  },
  {
   "cell_type": "markdown",
   "metadata": {},
   "source": [
    "## 2、栈：调用栈（详细图解见《算法图解P36-37》）"
   ]
  },
  {
   "cell_type": "code",
   "execution_count": 2,
   "metadata": {},
   "outputs": [
    {
     "name": "stdout",
     "output_type": "stream",
     "text": [
      "hello,  adit !\n",
      "how are you,  adit ?\n",
      "getting ready to say bye...\n",
      "ok bye!\n"
     ]
    }
   ],
   "source": [
    "def greet2(name):\n",
    "    print(\"how are you, \", name, \"?\")\n",
    "\n",
    "def bye():\n",
    "    print(\"ok bye!\")\n",
    "\n",
    "def greet(name):\n",
    "    print(\"hello, \", name, \"!\")\n",
    "    greet2(name)\n",
    "    print(\"getting ready to say bye...\")\n",
    "    bye()\n",
    "\n",
    "greet(\"adit\")"
   ]
  },
  {
   "cell_type": "markdown",
   "metadata": {},
   "source": [
    "#### 调用栈过程解析："
   ]
  },
  {
   "cell_type": "markdown",
   "metadata": {},
   "source": [
    "1. 假设调用greet(\"adit\")，计算机将首先为该函数调用分配一块内存；\n",
    "2. 在这个内存中，变量name被设置为adit，并存储进这个内存中；\n",
    "3. 接下来，打印 hello,adit !，再调用greet2(name)，此时的name=adit。同样，计算机也会为这个greet2函数调用分配一块内存；\n",
    "4. **计算机使用一个栈来表示这些内存块，其中第二个内存块位于第一个内存块上面**。当打印 how are you,adit?，然后从函数调用返回，**栈顶的内存块被弹出**；\n",
    "        （A执行过程调用B，B的内存块压入在A的上面，形成调用栈，栈顶是B，先执行完B，B在栈顶被弹出,A又回到栈顶位置，继续执行未完成状态的A）\n",
    "5. 现在栈顶的内存块是函数greet，这意味刚才执行完greet2函数后返回到了函数greet里，因此当调用函数greet2时，函数greet只执行了一部分。所以我们要记住一个重要的概念：**调用另一个函数时，当前函数暂停并处于未完成状态**。\n",
    "6. 该函数的所有变量的值都还在内存中，执行完函数greet2后，返回到函数greet中，并从离开的地方开始继续往下执行打印 getting ready to say bye...，再调用函数bye。\n",
    "7. 在栈顶添加函数bye的内存块，然后 打印 ok bye !，并从这个函数返回。\n",
    "8. 现在再次回到了函数greet，由于没有往下执行的操作，所以直接从函数greet返回。这个栈用于存储多个函数的变量，被称为调用栈。"
   ]
  },
  {
   "cell_type": "markdown",
   "metadata": {},
   "source": [
    "## 3、练习"
   ]
  },
  {
   "cell_type": "markdown",
   "metadata": {},
   "source": [
    "3.1答案：\n",
    "可获得的信息有：\n",
    "- 调用了函数greet，并将参数name的值指定为maggie；\n",
    "- 函数greet调用了函数greet2，并将参数name的值指定为maggie；\n",
    "- 此时函数greet处于未完成状态；\n",
    "- 当前调用的函数为greet2；\n",
    "- 这个函数执行完毕后会被弹出，函数greet将接着执行。"
   ]
  },
  {
   "cell_type": "markdown",
   "metadata": {},
   "source": [
    "3.2答案：  \n",
    "栈将不算的扩大，占据越来越多的内存，当调用栈的空间全部使用完之后，函数将因栈溢出而终止。"
   ]
  },
  {
   "cell_type": "markdown",
   "metadata": {},
   "source": [
    "## 4、小结"
   ]
  },
  {
   "cell_type": "markdown",
   "metadata": {},
   "source": [
    "- 递归指的是调用自己的函数。\n",
    "- 每个递归函数都有两个条件：基线条件(base case)和递归条件(recursive case)。\n",
    "- 栈有两种操作：压入和弹出。\n",
    "- **所有函数调用都进入调用栈**。\n",
    "- 调用栈可能非常长，这将占用计算机大量的内存。"
   ]
  },
  {
   "cell_type": "code",
   "execution_count": null,
   "metadata": {},
   "outputs": [],
   "source": []
  }
 ],
 "metadata": {
  "kernelspec": {
   "display_name": "Python 3",
   "language": "python",
   "name": "python3"
  },
  "language_info": {
   "codemirror_mode": {
    "name": "ipython",
    "version": 3
   },
   "file_extension": ".py",
   "mimetype": "text/x-python",
   "name": "python",
   "nbconvert_exporter": "python",
   "pygments_lexer": "ipython3",
   "version": "3.6.4"
  }
 },
 "nbformat": 4,
 "nbformat_minor": 2
}
