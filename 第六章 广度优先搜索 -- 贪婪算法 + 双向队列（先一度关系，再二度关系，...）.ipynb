{
 "cells": [
  {
   "cell_type": "markdown",
   "metadata": {},
   "source": [
    "# 第六章 广度优先搜索"
   ]
  },
  {
   "cell_type": "markdown",
   "metadata": {},
   "source": [
    "## 一、算法描述"
   ]
  },
  {
   "cell_type": "markdown",
   "metadata": {},
   "source": [
    "假设你经营着一家芒果农场，需要寻找芒果销售商，以便将芒果卖给他。为此，我们可以通过广度优先搜索算法，在朋友中查找出符合条件的芒果销售商。\n",
    "\n",
    "广度优先搜索是一种用于图的查找算法，可帮助我们回答两类问题：\n",
    "- 第一类问题：从节点A出发，有前往节点B的路径吗？（在你的人际关系网中，有芒果销售商吗？）\n",
    "- 第二类问题：从节点A出发，前往节点B的哪条路径最短？（哪个芒果销售商与你的关系最近？）"
   ]
  },
  {
   "cell_type": "markdown",
   "metadata": {},
   "source": [
    "在广度优先搜索的执行过程中，搜索范围从起点开始逐渐向外延伸，即先检查一度关系，再检查二度关系。"
   ]
  },
  {
   "cell_type": "markdown",
   "metadata": {},
   "source": [
    "- 广度优先搜索使用的数据结构： 队列（FIFO）"
   ]
  },
  {
   "cell_type": "markdown",
   "metadata": {},
   "source": [
    "注：栈（FILO）,数列和栈都不支持随机访问，只支持两种操作：队列（入队和出队），栈（压入和弹出）"
   ]
  },
  {
   "cell_type": "markdown",
   "metadata": {},
   "source": [
    "## 二、广度优先算法代码实现\n",
    "- 找出与你的**关系最近**的芒果销售商\n",
    "- 利用双向队列deque数据结构"
   ]
  },
  {
   "cell_type": "code",
   "execution_count": 1,
   "metadata": {},
   "outputs": [],
   "source": [
    "graph = {}      # 定义散列表映射关系\n",
    "# 定义you的一度关系， 散列表graph+数组\n",
    "graph['you'] = ['Bob','Alice','Claire']\n",
    "# 定义you的二度关系，即['Bob','Alice','Claire']的一度关系\n",
    "graph['Bob'] = ['Anuj','Peggy']\n",
    "graph['Alice'] = ['Bob','Peggy']\n",
    "graph['Claire'] = ['Thom','Jonny']\n",
    "# 定义you的三度关系\n",
    "graph['Anuj'] = []\n",
    "graph['Peggy'] = []\n",
    "graph['Thom'] = []\n",
    "graph['Jonny'] = []"
   ]
  },
  {
   "cell_type": "code",
   "execution_count": 2,
   "metadata": {},
   "outputs": [
    {
     "data": {
      "text/plain": [
       "{'Alice': ['Bob', 'Peggy'],\n",
       " 'Anuj': [],\n",
       " 'Bob': ['Anuj', 'Peggy'],\n",
       " 'Claire': ['Thom', 'Jonny'],\n",
       " 'Jonny': [],\n",
       " 'Peggy': [],\n",
       " 'Thom': [],\n",
       " 'you': ['Bob', 'Alice', 'Claire']}"
      ]
     },
     "execution_count": 2,
     "metadata": {},
     "output_type": "execute_result"
    }
   ],
   "source": [
    "graph     # 散列表是无序的，添加键值对的顺序无关紧要"
   ]
  },
  {
   "cell_type": "code",
   "execution_count": 3,
   "metadata": {},
   "outputs": [],
   "source": [
    "# 导入deque双向队列的模块\n",
    "from collections import deque"
   ]
  },
  {
   "cell_type": "markdown",
   "metadata": {},
   "source": [
    "#### 算法原理：\n",
    "- 创建一个双向队列的朋友名单search_deque和一个用于记录检查过的人名单的数组searched\n",
    "- 依次检查双向队列search_deque中的每一个名单，看是否满足要求\n",
    "- 不满足则必须在朋友的朋友中继续查找，并将该名单列入searched中；满足则直接返回True,程序结束"
   ]
  },
  {
   "cell_type": "code",
   "execution_count": 4,
   "metadata": {},
   "outputs": [],
   "source": [
    "# 定义一个人是seller的函数,返回ture：\n",
    "def seller(name):\n",
    "    return name[-1] == 'm'   # 如果name的最后一个字母是y,则name[-1]=='y'为True,即返回True,否则返回False"
   ]
  },
  {
   "cell_type": "code",
   "execution_count": 5,
   "metadata": {},
   "outputs": [],
   "source": [
    "def search(name):\n",
    "    search_deque = deque()\n",
    "    search_deque += graph[name]  # 将graph关系谱散列表的值（名单）加入到双向队列中\n",
    "    searched = []                # 存储已经检查过的名单的列表\n",
    "\n",
    "    # 循环：直至search_deque中的名单全部被检查过\n",
    "    while search_deque:\n",
    "        print(search_deque)\n",
    "        person = search_deque.popleft()     # Remove and return the leftmost element.（无放回取出，注意popleft的作用）\n",
    "        # 如果person没有检查过，则执行以下代码\n",
    "        if person not in searched:\n",
    "            if seller(person):\n",
    "                # 如果person的最后一个字母是‘y’,则该person是seller，成功找到关系最近的，返回True,程序结束\n",
    "                print('{} is a mango seller!'.format(person))\n",
    "                return True\n",
    "            else:\n",
    "                # 否则，将person的朋友添加到双向队列的队尾，同时标记person为searched\n",
    "                search_deque += graph[person]\n",
    "                # search_deque.append(graph[person])   # deque.append(): Add an element to the right side of the deque.\n",
    "                searched.append(person)\n",
    "    # 如果search_deque中的左右名单都搜索过也没找到芒果商，则在while循环结束后返回False（队列中没有芒果商）\n",
    "    return False"
   ]
  },
  {
   "cell_type": "code",
   "execution_count": 6,
   "metadata": {},
   "outputs": [
    {
     "name": "stdout",
     "output_type": "stream",
     "text": [
      "deque(['Bob', 'Alice', 'Claire'])\n",
      "deque(['Alice', 'Claire', 'Anuj', 'Peggy'])\n",
      "deque(['Claire', 'Anuj', 'Peggy', 'Bob', 'Peggy'])\n",
      "deque(['Anuj', 'Peggy', 'Bob', 'Peggy', 'Thom', 'Jonny'])\n",
      "deque(['Peggy', 'Bob', 'Peggy', 'Thom', 'Jonny'])\n",
      "deque(['Bob', 'Peggy', 'Thom', 'Jonny'])\n",
      "deque(['Peggy', 'Thom', 'Jonny'])\n",
      "deque(['Thom', 'Jonny'])\n",
      "Thom is a mango seller!\n"
     ]
    },
    {
     "data": {
      "text/plain": [
       "True"
      ]
     },
     "execution_count": 6,
     "metadata": {},
     "output_type": "execute_result"
    }
   ],
   "source": [
    "search('you')"
   ]
  },
  {
   "cell_type": "markdown",
   "metadata": {},
   "source": [
    "#### 注意：\n",
    "- **search_deque += graph[person]** 不能替换为 **search_deque.append(graph[person])**\n",
    "\n",
    "两者区别如下代码："
   ]
  },
  {
   "cell_type": "code",
   "execution_count": 7,
   "metadata": {},
   "outputs": [],
   "source": [
    "a = [1, 2, 5, 4]\n",
    "b = [1, 2, 5, 4]"
   ]
  },
  {
   "cell_type": "code",
   "execution_count": 8,
   "metadata": {},
   "outputs": [
    {
     "data": {
      "text/plain": [
       "[1, 2, 5, 4, 7, 8]"
      ]
     },
     "execution_count": 8,
     "metadata": {},
     "output_type": "execute_result"
    }
   ],
   "source": [
    "a += [7, 8]\n",
    "a"
   ]
  },
  {
   "cell_type": "code",
   "execution_count": 9,
   "metadata": {},
   "outputs": [
    {
     "data": {
      "text/plain": [
       "[1, 2, 5, 4, [7, 8]]"
      ]
     },
     "execution_count": 9,
     "metadata": {},
     "output_type": "execute_result"
    }
   ],
   "source": [
    "b.append([7, 8])\n",
    "b"
   ]
  },
  {
   "cell_type": "markdown",
   "metadata": {},
   "source": [
    "- 很明显，b.append(list) 是将list整体作为一个元素加入到b中，b新增元素个数为1\n",
    "- a += [list]， 是将list中的每个元素单独作为一个元素加入到a中，a新增元素个数为len(list)"
   ]
  },
  {
   "cell_type": "markdown",
   "metadata": {},
   "source": [
    "#### 运行时间"
   ]
  },
  {
   "cell_type": "markdown",
   "metadata": {},
   "source": [
    "- 在整个人际关系网中搜索，意味着将沿着每一条边前行（边是一个人到另一个人的连接或箭头），因此运行时间至少为O(边数)\n",
    "- 使用了一个队列，包含要检查的每一个人，每一个人添加到队列的时间是固定的O(1), 则所有的人总时间是O(人数)\n",
    "- 故：广度优先搜索的运行时间为 **O(边数+人数)**， 即O(E + V)。E： edge边数； V:vertice 顶点数"
   ]
  },
  {
   "cell_type": "markdown",
   "metadata": {},
   "source": [
    "## 三、小结"
   ]
  },
  {
   "cell_type": "markdown",
   "metadata": {},
   "source": [
    "- 广度优先搜索指出是否有从A到B的路径。\n",
    "- 如果有，广度优先搜索将找出最短路径。\n",
    "- 面临类似于寻找最短路径的问题，可尝试使用图来建立模型，再使用广度优先搜索来解决问题。\n",
    "- 有向图和无向图区别注意。\n",
    "- 队列： FIFO.\n",
    "- 栈：FILO\n",
    "- 你需要**按加入顺序检查**搜索列表中的人，否则找到的就不是**最短路径**，因此**搜索列表必须是队列**。\n",
    "- 对于检查过的人，务必不要再去检查，否则可能导致无限循环。"
   ]
  },
  {
   "cell_type": "code",
   "execution_count": null,
   "metadata": {},
   "outputs": [],
   "source": []
  }
 ],
 "metadata": {
  "kernelspec": {
   "display_name": "Python 3",
   "language": "python",
   "name": "python3"
  },
  "language_info": {
   "codemirror_mode": {
    "name": "ipython",
    "version": 3
   },
   "file_extension": ".py",
   "mimetype": "text/x-python",
   "name": "python",
   "nbconvert_exporter": "python",
   "pygments_lexer": "ipython3",
   "version": "3.6.4"
  }
 },
 "nbformat": 4,
 "nbformat_minor": 2
}
