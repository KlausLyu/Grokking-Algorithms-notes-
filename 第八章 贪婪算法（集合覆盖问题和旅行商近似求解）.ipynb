{
 "cells": [
  {
   "cell_type": "markdown",
   "metadata": {},
   "source": [
    "# 第八章 贪婪算法"
   ]
  },
  {
   "cell_type": "markdown",
   "metadata": {},
   "source": [
    "贪婪算法的核心思想：**每一步都采取局部最优解**，最终得到的就是全局最优解"
   ]
  },
  {
   "cell_type": "markdown",
   "metadata": {},
   "source": [
    "## 一、NP完全问题"
   ]
  },
  {
   "cell_type": "markdown",
   "metadata": {},
   "source": [
    "NP完全问题：Non-deterministic Polynomial, 多项式复杂程度的非确定性问题，世界七大数学难题之一。\n",
    "- 对于NP完全问题，还没有找到快速解决方案\n",
    "- 面临NP完全问题时，最佳的做法是使用近似算法"
   ]
  },
  {
   "cell_type": "markdown",
   "metadata": {},
   "source": [
    "NP完全问题经验判断方法：\n",
    "- 元素较少时算法运行速度非常快，但随着元素增加，速度会变得非常慢\n",
    "- 涉及‘所有组合’的问题通常都是NP完全问题\n",
    "- 不能将问题分成小问题，必须考虑各种可能的情况。这可能是NP完全问题\n",
    "- 如果涉及到序列（如旅行商中的城市序列）且难以解决，可能是NP完全问题\n",
    "- 如果问题涉及集合（如广播台集合覆盖问题）且难以解决，可能是NP完全问题\n",
    "- 如果问题可转换为集合覆盖问题或旅行商问题，那么肯定是NP完全问题"
   ]
  },
  {
   "cell_type": "markdown",
   "metadata": {},
   "source": [
    " ## 二、集合覆盖问题"
   ]
  },
  {
   "cell_type": "markdown",
   "metadata": {},
   "source": [
    "问题描述：假设你办了个广播节目，要让全美个州的听众都收听得到，为此，你需要决定在哪些广播台播出。在每个广播台播出都需要支付费用，因此你试图在尽可能少的广播台播出。广播台名单略（见P121）。每个广播台都覆盖特定的区域，不同广播台的覆盖区域可能重叠。\n",
    "-  如何找出覆盖全美个州的最小广播台合集呢？"
   ]
  },
  {
   "cell_type": "markdown",
   "metadata": {},
   "source": [
    "解决思路和步骤：\n",
    "- 1） 列出每个可能的广播台集合，这被称为幂集（power set）。可能的子集有2^n个。\n",
    "- 2） 在这些集合中，选出覆盖全美50个州的最小集合。"
   ]
  },
  {
   "cell_type": "markdown",
   "metadata": {},
   "source": [
    "由于集合为幂集，计算每个可能的广播台自己需要很长时间，速度会非常慢。这里可以尝试采用贪婪算法。"
   ]
  },
  {
   "cell_type": "markdown",
   "metadata": {},
   "source": [
    "### 集合覆盖问题的贪婪算法实现过程"
   ]
  },
  {
   "cell_type": "markdown",
   "metadata": {},
   "source": [
    "步骤：\n",
    "- 选出这样一个广播台，即它**覆盖了最多未覆盖的州**。即便这个广播台覆盖了一些已覆盖的州（就是重复覆盖），也没有关系。\n",
    "- 重复第一步，直到覆盖了所有的州"
   ]
  },
  {
   "cell_type": "code",
   "execution_count": 1,
   "metadata": {},
   "outputs": [],
   "source": [
    "# 定义目标需要覆盖的州：集合\n",
    "states_needed = set([\"mt\", \"wa\", \"or\", \"id\", \"nv\", \"ut\", \"ca\", \"az\"])\n",
    "# 定义广播台及其所覆盖的州：散列表+集合\n",
    "stations = {}\n",
    "stations[\"kone\"] = set([\"id\", \"nv\", \"ut\"])\n",
    "stations[\"ktwo\"] = set([\"wa\", \"id\", \"mt\"])\n",
    "stations[\"kthree\"] = set([\"or\", \"nv\", \"ca\"])\n",
    "stations[\"kfour\"] = set([\"nv\", \"ut\"])\n",
    "stations[\"kfive\"] = set([\"ca\", \"az\"])"
   ]
  },
  {
   "cell_type": "code",
   "execution_count": 2,
   "metadata": {},
   "outputs": [
    {
     "data": {
      "text/plain": [
       "{'kfive': {'az', 'ca'},\n",
       " 'kfour': {'nv', 'ut'},\n",
       " 'kone': {'id', 'nv', 'ut'},\n",
       " 'kthree': {'ca', 'nv', 'or'},\n",
       " 'ktwo': {'id', 'mt', 'wa'}}"
      ]
     },
     "execution_count": 2,
     "metadata": {},
     "output_type": "execute_result"
    }
   ],
   "source": [
    "stations"
   ]
  },
  {
   "cell_type": "code",
   "execution_count": 3,
   "metadata": {},
   "outputs": [],
   "source": [
    "# 定义一个集合：存储最终选择出来的州 （每次选出来目标州后，相应的需要从states_needed中删除被选出的州，直至states_needed中不再存在元素）\n",
    "final_stations = set()\n",
    "# 定义一个变量，存储每一次选出来的最合适的station\n",
    "best_station = None               # 初始条件下，为None\n",
    "\n",
    "# 算法实现\n",
    "# while循环：当states_needed为空，停止循环\n",
    "while states_needed:\n",
    "    # 定义一个变量，存储每一轮for中station与states_needed交集最多的情况下的交集，即交集中的元素州的集合\n",
    "    states_covered = set()            # 初始条件下，为空集合；for中根据station与states_needed交集情况更新；每一轮for之后，重置为空集合\n",
    "    \n",
    "    # station的for循环：每一轮for都要遍历所有的station，找出交集最多的州\n",
    "    # 每一轮for执行完后，选出一个最合适的州\n",
    "    for station, states in stations.items():\n",
    "        covered = states & states_needed           # station的for中，单个station覆盖的州与目标州集合的交集\n",
    "        if len(covered) > len(states_covered):     # 判断该交集与states_covered元素个数\n",
    "            states_covered = covered               # 元素多的赋值给states_covered,以便与下一个station和states_needed的交集进行比较\n",
    "            best_station = station                 # 对应的州作为更合适的州赋值给best_station\n",
    "    \n",
    "    # for后，将best_station添加到final_stations中\n",
    "    final_stations.add(best_station)\n",
    "    # for后，将best_station与states_needed的交集中的州从states_needed中删除\n",
    "    states_needed -= states_covered"
   ]
  },
  {
   "cell_type": "code",
   "execution_count": 4,
   "metadata": {},
   "outputs": [
    {
     "data": {
      "text/plain": [
       "{'kfive', 'kone', 'kthree', 'ktwo'}"
      ]
     },
     "execution_count": 4,
     "metadata": {},
     "output_type": "execute_result"
    }
   ],
   "source": [
    "final_stations"
   ]
  },
  {
   "cell_type": "code",
   "execution_count": 5,
   "metadata": {},
   "outputs": [],
   "source": [
    "a = []"
   ]
  },
  {
   "cell_type": "code",
   "execution_count": 6,
   "metadata": {},
   "outputs": [],
   "source": [
    "for x in final_stations:\n",
    "    a += stations[x]                # 注意list.append(list_arr) 和 list += list_arr的却别"
   ]
  },
  {
   "cell_type": "markdown",
   "metadata": {},
   "source": [
    "- list.append(list_arr)：将list_arr作为一个整体加入到list列表中，新增元素个数为1\n",
    "- list += list_arr：将list_arr中的元素逐个加入到list列表中，新增元素个数为len(list_arr)"
   ]
  },
  {
   "cell_type": "code",
   "execution_count": 7,
   "metadata": {},
   "outputs": [
    {
     "data": {
      "text/plain": [
       "['or', 'ca', 'nv', 'az', 'ca', 'id', 'ut', 'nv', 'id', 'mt', 'wa']"
      ]
     },
     "execution_count": 7,
     "metadata": {},
     "output_type": "execute_result"
    }
   ],
   "source": [
    "a"
   ]
  },
  {
   "cell_type": "code",
   "execution_count": 8,
   "metadata": {},
   "outputs": [
    {
     "data": {
      "text/plain": [
       "{'az', 'ca', 'id', 'mt', 'nv', 'or', 'ut', 'wa'}"
      ]
     },
     "execution_count": 8,
     "metadata": {},
     "output_type": "execute_result"
    }
   ],
   "source": [
    "set(a)"
   ]
  },
  {
   "cell_type": "markdown",
   "metadata": {},
   "source": [
    "## 三、旅行商问题"
   ]
  },
  {
   "cell_type": "markdown",
   "metadata": {},
   "source": [
    "问题描述：旅行商需要前往n个不同的城市，找出前往该n个城市的最短路径。（未指定出发城市，即每一个城市都可以作为出发城市）\n",
    "- n个城市的路线，有A(n,n) 即n!种路线。如果需要准确解，算法运行的速度会非常非常慢。\n",
    "- 寻求近似解即可。"
   ]
  },
  {
   "cell_type": "markdown",
   "metadata": {},
   "source": [
    "### 旅行商问题的近似解思路"
   ]
  },
  {
   "cell_type": "markdown",
   "metadata": {},
   "source": [
    "- 随便选择出发城市（即随机指定起点），然后每次选择要去的下一个城市时，都选择**还没去**的**最近**的城市。"
   ]
  },
  {
   "cell_type": "markdown",
   "metadata": {},
   "source": [
    "## 四、小结\n",
    "- 贪婪算法寻找局部最优解，企图以这种方式获得全局最优解。\n",
    "- 贪婪算法易于实现、运行速度快，是不错的近似算法。\n",
    "- 广度优先搜索、迪杰斯特拉算法是贪婪算法。"
   ]
  },
  {
   "cell_type": "code",
   "execution_count": null,
   "metadata": {},
   "outputs": [],
   "source": []
  }
 ],
 "metadata": {
  "kernelspec": {
   "display_name": "Python 3",
   "language": "python",
   "name": "python3"
  },
  "language_info": {
   "codemirror_mode": {
    "name": "ipython",
    "version": 3
   },
   "file_extension": ".py",
   "mimetype": "text/x-python",
   "name": "python",
   "nbconvert_exporter": "python",
   "pygments_lexer": "ipython3",
   "version": "3.6.4"
  }
 },
 "nbformat": 4,
 "nbformat_minor": 2
}
