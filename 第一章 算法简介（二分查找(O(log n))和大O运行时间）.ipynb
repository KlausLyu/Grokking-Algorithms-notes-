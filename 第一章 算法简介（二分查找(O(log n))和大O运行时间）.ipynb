{
 "cells": [
  {
   "cell_type": "markdown",
   "metadata": {},
   "source": [
    "# 第一章 算法简介"
   ]
  },
  {
   "cell_type": "markdown",
   "metadata": {},
   "source": [
    "## 一、二分查找"
   ]
  },
  {
   "cell_type": "markdown",
   "metadata": {},
   "source": [
    "- 仅当列表是有序列表时，二分查找才能使用"
   ]
  },
  {
   "cell_type": "code",
   "execution_count": 1,
   "metadata": {},
   "outputs": [],
   "source": [
    "def binary_search(list, item):\n",
    "    # defube the low and high boundary of the target list\n",
    "    low = 0\n",
    "    high = len(list) - 1           # the index starts from zero\n",
    "    \n",
    "    # estimate if the element number is just one: if not, continue the while loop\n",
    "    while low <= high:\n",
    "        # define the index of middle item of the list\n",
    "        mid = (low + high) // 2   # index of the middle value of the list\n",
    "        guess = list[mid]         # value corresponding with the middle index of the list\n",
    "        \n",
    "        # compare the guess value with the target item\n",
    "        # if the guess value is right， return the index in the list\n",
    "        if guess == item:\n",
    "            print('The index of {} is: {}'.format(item,mid))\n",
    "            return mid\n",
    "        # if the guess value is not correct, adjust the low or high value and continue the loop\n",
    "        if guess > item:\n",
    "            high = mid - 1\n",
    "        if guess < item:\n",
    "            low = mid + 1\n",
    "            \n",
    "    # if None is correct, return None, meaning there is not the item in the list\n",
    "    return None"
   ]
  },
  {
   "cell_type": "code",
   "execution_count": 2,
   "metadata": {},
   "outputs": [],
   "source": [
    "import numpy as np"
   ]
  },
  {
   "cell_type": "code",
   "execution_count": 3,
   "metadata": {},
   "outputs": [
    {
     "data": {
      "text/plain": [
       "[1, 3, 5, 7, 9, 12, 14, 16, 18, 21]"
      ]
     },
     "execution_count": 3,
     "metadata": {},
     "output_type": "execute_result"
    }
   ],
   "source": [
    "my_list = list(np.linspace(1,21,10).astype('int'))\n",
    "my_list"
   ]
  },
  {
   "cell_type": "code",
   "execution_count": 4,
   "metadata": {},
   "outputs": [
    {
     "name": "stdout",
     "output_type": "stream",
     "text": [
      "The index of 14 is: 6\n"
     ]
    },
    {
     "data": {
      "text/plain": [
       "6"
      ]
     },
     "execution_count": 4,
     "metadata": {},
     "output_type": "execute_result"
    }
   ],
   "source": [
    "# excute the binary_search func\n",
    "binary_search(my_list,14)"
   ]
  },
  {
   "cell_type": "markdown",
   "metadata": {},
   "source": [
    "## 二、大O表示法"
   ]
  },
  {
   "cell_type": "markdown",
   "metadata": {},
   "source": [
    "- 大O表示法，本质上体现的是算法运行时间的增速。它指出了算法有多快，并非是以秒为单位的速度。\n",
    "- 大O表示法指出了最糟糕情况下的运行时间。"
   ]
  },
  {
   "cell_type": "markdown",
   "metadata": {},
   "source": [
    "### 常见的5中大O运行时间"
   ]
  },
  {
   "cell_type": "markdown",
   "metadata": {},
   "source": [
    "- O(log n)：对数时间，这样的算法包括二分查找。\n",
    "- O(n)：线性时间，这样的算法包括简单查找。\n",
    "- O(n * log n)：这样的算法包括快速排序 ---- 一种速度较快的排序算法。\n",
    "- O(n**2)：这样的算法包括选择排序 --- 一种速度较慢的排序算法。\n",
    "- O(n!)：这样的算法包括旅行商问题的解决方案 ---- 一种非常慢的算法。"
   ]
  },
  {
   "cell_type": "markdown",
   "metadata": {},
   "source": [
    "#### 旅行商问题：\n",
    "旅行商要前往N个城市，同时确保旅程最短。\n",
    "- 考虑前往这些城市的组合顺序，可能性有 A(5，5)中选择，即 5！种选择。从中选择旅程最短的组合。\n",
    "- 若有N个城市，则运算时间以阶乘运算O(n!)，计算量很非常大。"
   ]
  },
  {
   "cell_type": "markdown",
   "metadata": {},
   "source": [
    "## 三、习题练习"
   ]
  },
  {
   "cell_type": "markdown",
   "metadata": {},
   "source": [
    "练习："
   ]
  },
  {
   "cell_type": "markdown",
   "metadata": {},
   "source": [
    "- 1、假设有128个名字的有序列表，使用二分查找来查找其中一个名字，最多需要多少步能找到？\n",
    "- 2、如果上述有序列表长度翻倍后，最多需要多少步？\n",
    "- 3、电话簿中根据名字查找电话号码\n",
    "- 4、根据电话号码找人（提示：必须查找整个电话簿）\n",
    "- 5、阅读电话簿中每个人的电话号码\n",
    "- 6、阅读电话簿中姓名以A开头的人的电话号码。（这个问题比较棘手，涉及第四章概念，稍后更新答案）"
   ]
  },
  {
   "cell_type": "markdown",
   "metadata": {},
   "source": [
    "答案："
   ]
  },
  {
   "cell_type": "markdown",
   "metadata": {},
   "source": [
    "- 1、有序列表的二分查找，时间自由度O(log n),128 = 2 ** 7, log(128) = 7，最多7步\n",
    "- 2、列表长度翻倍, 即 256 = 2 ** 8， log(256) = 8, 最多8步\n",
    "- 3、根据字母姓氏进行二分查找， O(log n)\n",
    "- 4、简单查找，O(n)\n",
    "- 5、简单查找，O(n)\n",
    "- 6、后续更新"
   ]
  },
  {
   "cell_type": "markdown",
   "metadata": {},
   "source": [
    "## 四、小结"
   ]
  },
  {
   "cell_type": "markdown",
   "metadata": {},
   "source": [
    "- 二分查找的速度比简单查找要快许多，数据越大，差距就越明显。\n",
    "- O(log n)比O(n)快。需要搜索的元素越多，前者比后者就快得越多。\n",
    "- 算法运行时间并不以秒为单位。\n",
    "- 算法运行时间是从其增速的角度来度量的。\n",
    "- 算法运行时间用大O表示法表示。"
   ]
  },
  {
   "cell_type": "code",
   "execution_count": null,
   "metadata": {},
   "outputs": [],
   "source": []
  }
 ],
 "metadata": {
  "kernelspec": {
   "display_name": "Python 3",
   "language": "python",
   "name": "python3"
  },
  "language_info": {
   "codemirror_mode": {
    "name": "ipython",
    "version": 3
   },
   "file_extension": ".py",
   "mimetype": "text/x-python",
   "name": "python",
   "nbconvert_exporter": "python",
   "pygments_lexer": "ipython3",
   "version": "3.6.4"
  }
 },
 "nbformat": 4,
 "nbformat_minor": 2
}
