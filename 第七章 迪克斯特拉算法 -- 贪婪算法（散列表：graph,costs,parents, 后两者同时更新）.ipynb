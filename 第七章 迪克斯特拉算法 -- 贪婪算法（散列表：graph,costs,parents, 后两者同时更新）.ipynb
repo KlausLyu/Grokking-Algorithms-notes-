{
 "cells": [
  {
   "cell_type": "markdown",
   "metadata": {},
   "source": [
    "# 第七章 迪克斯特拉算法"
   ]
  },
  {
   "cell_type": "markdown",
   "metadata": {},
   "source": [
    "# 一、 迪克斯特拉（dijkstras）算法介绍"
   ]
  },
  {
   "cell_type": "markdown",
   "metadata": {},
   "source": [
    "算法目标：找出一个图中最快（耗时最短）的路径。 "
   ]
  },
  {
   "cell_type": "markdown",
   "metadata": {},
   "source": [
    "实现步骤：\n",
    "- 找出最短时间内前往的节点；\n",
    "- 对于该节点的邻居，检查是否有前往它们的更短路径，如果有，就更新其开销；\n",
    "- 重复这个过程，直到对图中的每个节点都重复了以上两个步骤；\n",
    "- 计算最终路径"
   ]
  },
  {
   "cell_type": "markdown",
   "metadata": {},
   "source": [
    "#### 加权图"
   ]
  },
  {
   "cell_type": "markdown",
   "metadata": {},
   "source": [
    "迪杰斯特拉算法用于每条边都有关联数字的图，这些数字称为权重（weight）。\n",
    "\n",
    "带权重的图称为加权图(weighted graph)。权重全为非负数的为正加权图。\n",
    "\n",
    "**迪克斯特拉算法只适用于权重全为非负数的加权图**。包含负权边的图，需要找最短路径(耗时最短)可以使用 贝尔曼-福德算法。"
   ]
  },
  {
   "cell_type": "markdown",
   "metadata": {},
   "source": [
    "## 二、算法实现"
   ]
  },
  {
   "cell_type": "markdown",
   "metadata": {},
   "source": [
    "要解决这类问题，需要三个散列表，graph, costs, parents.\n",
    "- graph: 同时存储所有节点的邻居和该一节点前往其邻居的开销 （不是从起点到节点A的邻居B的开销，是直接A->B的开销）。(终点的graph设置为空dict)\n",
    "- costs: 存储从起点到每个节点的开销（起点->A, 起点->B,...）。（从起点出发前往该节点需要的权重，不知道的开销，设置为无穷大float('inf')）\n",
    "- parents: 存储父节点的散列表。（父节点不是起点的可以直接设置为None, parents['e'] = None）"
   ]
  },
  {
   "cell_type": "markdown",
   "metadata": {},
   "source": [
    "换钢琴代码："
   ]
  },
  {
   "cell_type": "markdown",
   "metadata": {},
   "source": [
    "#### 1. 节点和权重定义 ： 散列表graph\n",
    "- 所有节点包括起点和终点及其对应的指向邻居的权重"
   ]
  },
  {
   "cell_type": "code",
   "execution_count": 1,
   "metadata": {},
   "outputs": [],
   "source": [
    "graph = {}                       # graph 需要定义为dict\n",
    "graph['music'] = {}              # graph['music']需要定义为dict  \n",
    "graph['music']['album'] = 5\n",
    "graph['music']['poster'] = 0\n",
    "graph['album'] = {}              # graph['album']需要定义为dict  \n",
    "graph['album']['gitar'] = 15\n",
    "graph['album']['drum'] = 20\n",
    "graph['poster'] = {}             # graph['poster']需要定义为dict  \n",
    "graph['poster']['gitar'] = 30\n",
    "graph['poster']['drum'] = 35\n",
    "graph['gitar'] = {}              # graph['gitar']需要定义为dict  \n",
    "graph['gitar']['piano'] = 20\n",
    "graph['drum'] = {}               # graph['drum']需要定义为dict  \n",
    "graph['drum']['piano'] = 10\n",
    "graph['piano'] = {}              # 终节点graph['piano']需要定义为dict  \n",
    "# 所有节点都一定要用散列表定义"
   ]
  },
  {
   "cell_type": "code",
   "execution_count": 2,
   "metadata": {},
   "outputs": [
    {
     "data": {
      "text/plain": [
       "{'album': {'drum': 20, 'gitar': 15},\n",
       " 'drum': {'piano': 10},\n",
       " 'gitar': {'piano': 20},\n",
       " 'music': {'album': 5, 'poster': 0},\n",
       " 'piano': {},\n",
       " 'poster': {'drum': 35, 'gitar': 30}}"
      ]
     },
     "execution_count": 2,
     "metadata": {},
     "output_type": "execute_result"
    }
   ],
   "source": [
    "graph"
   ]
  },
  {
   "cell_type": "markdown",
   "metadata": {},
   "source": [
    "#### 2. 节点开销定义：散列表costs\n",
    "- 从**起点**出发前往其他节点的权重（与起点不相邻，则权重设置为无穷大float('inf')）"
   ]
  },
  {
   "cell_type": "code",
   "execution_count": 3,
   "metadata": {},
   "outputs": [],
   "source": [
    "infinity = float('inf')\n",
    "costs = {}\n",
    "costs['album'] = 5\n",
    "costs['poster'] = 0\n",
    "costs['gitar'] = infinity\n",
    "costs['drum'] = infinity\n",
    "costs['piano'] = infinity"
   ]
  },
  {
   "cell_type": "code",
   "execution_count": 4,
   "metadata": {},
   "outputs": [
    {
     "data": {
      "text/plain": [
       "{'album': 5, 'drum': inf, 'gitar': inf, 'piano': inf, 'poster': 0}"
      ]
     },
     "execution_count": 4,
     "metadata": {},
     "output_type": "execute_result"
    }
   ],
   "source": [
    "costs"
   ]
  },
  {
   "cell_type": "markdown",
   "metadata": {},
   "source": [
    "#### 3. 父节点定义：散列表parents\n",
    "- 不是起点邻居的节点的父节点可以直接设置为None.\n",
    "- 最后确定的最短路径的节点就储存在parents中，但是由于散列表无序，若找最佳节点排序，从终点开始倒推父节点parents[pinao], parents[parents[pinao]],...."
   ]
  },
  {
   "cell_type": "code",
   "execution_count": 5,
   "metadata": {},
   "outputs": [],
   "source": [
    "parents = {}\n",
    "parents['album'] = 'music'\n",
    "parents['poster'] = 'music'\n",
    "parents['gitar'] = None\n",
    "parents['drum'] = None\n",
    "parents['piano'] = None"
   ]
  },
  {
   "cell_type": "code",
   "execution_count": 6,
   "metadata": {},
   "outputs": [
    {
     "data": {
      "text/plain": [
       "{'album': 'music',\n",
       " 'drum': None,\n",
       " 'gitar': None,\n",
       " 'piano': None,\n",
       " 'poster': 'music'}"
      ]
     },
     "execution_count": 6,
     "metadata": {},
     "output_type": "execute_result"
    }
   ],
   "source": [
    "parents"
   ]
  },
  {
   "cell_type": "markdown",
   "metadata": {},
   "source": [
    "#### 4. 已处理节点定义：列表or数组\n",
    "- 记录处理过的节点"
   ]
  },
  {
   "cell_type": "code",
   "execution_count": 7,
   "metadata": {},
   "outputs": [],
   "source": [
    "processed = []"
   ]
  },
  {
   "cell_type": "markdown",
   "metadata": {},
   "source": [
    "#### 5. 开销最低节点查找函数\n",
    "- 遍历未处理的节点，寻找起点出发到节点的开销最低的节点"
   ]
  },
  {
   "cell_type": "code",
   "execution_count": 8,
   "metadata": {},
   "outputs": [],
   "source": [
    "def find_lowest_cost_node(costs):\n",
    "    # 初始化最低开销lowest_cost和最低开销节点lowest_cost_node\n",
    "    lowest_cost = float('inf')\n",
    "    lowest_cost_node = None\n",
    "    \n",
    "    # 遍历所有未处理节点，比较获得最低开销节点\n",
    "    for node, cost in costs.items():\n",
    "        if cost < lowest_cost and node not in processed:    # node not in processed： 必须有，未处理节点\n",
    "            lowest_cost = cost\n",
    "            lowest_cost_node = node\n",
    "    return lowest_cost_node"
   ]
  },
  {
   "cell_type": "code",
   "execution_count": 9,
   "metadata": {},
   "outputs": [
    {
     "data": {
      "text/plain": [
       "'poster'"
      ]
     },
     "execution_count": 9,
     "metadata": {},
     "output_type": "execute_result"
    }
   ],
   "source": [
    "find_lowest_cost_node(costs)"
   ]
  },
  {
   "cell_type": "markdown",
   "metadata": {},
   "source": [
    "#### 6. 算法实现核心：\n",
    "- 迪克斯特拉算法背后的关键理念：**找出图中最便宜的节点，并确保没有到该节点的更便宜的路径**。"
   ]
  },
  {
   "cell_type": "code",
   "execution_count": 10,
   "metadata": {},
   "outputs": [],
   "source": [
    "# 第一部：初始化从起点出发到所有节点的开销最低的节点\n",
    "node = find_lowest_cost_node(costs)\n",
    "# while 循环，循环结束条件是所有节点都被处理完，即 node = None\n",
    "while node is not None:\n",
    "    # 定义开销cost值和对应开销的节点的邻居\n",
    "    cost = costs[node]\n",
    "    neighbors = graph[node]\n",
    "    \n",
    "    # 遍历当前节点的所有邻居，如果经当前节点前往该邻居更近，则更新开销costs表和父节点parents表\n",
    "    for n in neighbors.keys():\n",
    "        new_cost = cost + neighbors[n]\n",
    "        if costs[n] > new_cost:\n",
    "            costs[n] = new_cost     # 起点出发经node到n的开销 比 起点出到达n(直达or经停，未知)的开销低，则更新起点到n(直达or经停，未知)的开销值为经停的开销\n",
    "            parents[n] = node       # 同时，更新n(node的邻居)的父节点(初始化的已知or未知) 为新的父节点node(经停开销最低的节点node)\n",
    "    \n",
    "    processed.append(node)          # 当前节点标记为已处理\n",
    "    \n",
    "    # 更新 未处理节点中的最低开销节点\n",
    "    node = find_lowest_cost_node(costs)"
   ]
  },
  {
   "cell_type": "code",
   "execution_count": 11,
   "metadata": {
    "scrolled": true
   },
   "outputs": [
    {
     "data": {
      "text/plain": [
       "{'album': 'music',\n",
       " 'drum': 'album',\n",
       " 'gitar': 'album',\n",
       " 'piano': 'drum',\n",
       " 'poster': 'music'}"
      ]
     },
     "execution_count": 11,
     "metadata": {},
     "output_type": "execute_result"
    }
   ],
   "source": [
    "parents"
   ]
  },
  {
   "cell_type": "code",
   "execution_count": 12,
   "metadata": {},
   "outputs": [
    {
     "name": "stdout",
     "output_type": "stream",
     "text": [
      "{'album': 5, 'poster': 0, 'gitar': 20, 'drum': 25, 'piano': 35}\n",
      "The lowest cost from to exchange piano with music: 35\n"
     ]
    }
   ],
   "source": [
    "# 最低开销 = costs['piano']\n",
    "print(costs)\n",
    "print('The lowest cost from to exchange piano with music:',costs['piano'])"
   ]
  },
  {
   "cell_type": "code",
   "execution_count": 13,
   "metadata": {},
   "outputs": [
    {
     "name": "stdout",
     "output_type": "stream",
     "text": [
      "music -> album -> drum -> piano\n"
     ]
    }
   ],
   "source": [
    "# 开销最低的路径 \n",
    "print(parents[parents[parents['piano']]],'->',parents[parents['piano']],'->',parents['piano'],'->','piano')"
   ]
  },
  {
   "cell_type": "code",
   "execution_count": 14,
   "metadata": {},
   "outputs": [
    {
     "name": "stdout",
     "output_type": "stream",
     "text": [
      " music->album: 5 \n",
      " album->drum: 25 \n",
      " drum->piano: 35\n"
     ]
    }
   ],
   "source": [
    "print(' music->album:',costs['album'], '\\n','album->drum:',costs['drum'], '\\n','drum->piano:',costs['piano'])"
   ]
  },
  {
   "cell_type": "markdown",
   "metadata": {},
   "source": [
    "## 三、小结"
   ]
  },
  {
   "cell_type": "markdown",
   "metadata": {},
   "source": [
    "- 广度有限搜索用于在非加权图中查找最短路径。\n",
    "- 迪杰斯特拉算法用于在加权图中查找最短路径。\n",
    "- 仅当权重为正时迪杰斯特拉算法才管用。\n",
    "- 如果图中包含负权边，考虑使用贝尔曼-福德（Bellman-Ford）算法。"
   ]
  },
  {
   "cell_type": "markdown",
   "metadata": {},
   "source": [
    "## 四、练习"
   ]
  },
  {
   "cell_type": "code",
   "execution_count": 15,
   "metadata": {},
   "outputs": [],
   "source": [
    "# exercise 7.1\n",
    "# graph\n",
    "graph1 = {}\n",
    "graph1['start'] = {}\n",
    "graph1['start']['A'] = 5\n",
    "graph1['start']['B'] = 2\n",
    "graph1['A'] = {}\n",
    "graph1['A']['C'] = 4\n",
    "graph1['A']['D'] = 2\n",
    "graph1['B'] = {}\n",
    "graph1['B']['A'] = 8\n",
    "graph1['B']['D'] = 7\n",
    "graph1['C'] = {}\n",
    "graph1['C']['D'] = 6\n",
    "graph1['C']['final'] = 3\n",
    "graph1['D'] = {}\n",
    "graph1['D']['final'] = 1\n",
    "graph1['final'] = {}              # ‘final’节点不能少\n",
    "# costs: cost from the start\n",
    "infinity = float('inf')\n",
    "costs1 = {}\n",
    "costs1['A'] = 5\n",
    "costs1['B'] = 2\n",
    "costs1['C'] = infinity\n",
    "costs1['D'] = infinity\n",
    "costs1['final'] = infinity\n",
    "# parents\n",
    "parents1 = {}\n",
    "parents1['A'] = 'start'\n",
    "parents1['B'] = 'start'\n",
    "parents1['C'] = None\n",
    "parents1['D'] = None\n",
    "parents1['final'] = None"
   ]
  },
  {
   "cell_type": "code",
   "execution_count": 16,
   "metadata": {},
   "outputs": [
    {
     "name": "stdout",
     "output_type": "stream",
     "text": [
      "{'start': {'A': 5, 'B': 2}, 'A': {'C': 4, 'D': 2}, 'B': {'A': 8, 'D': 7}, 'C': {'D': 6, 'final': 3}, 'D': {'final': 1}, 'final': {}}\n",
      "{'A': 5, 'B': 2, 'C': inf, 'D': inf, 'final': inf}\n",
      "{'A': 'start', 'B': 'start', 'C': None, 'D': None, 'final': None}\n"
     ]
    }
   ],
   "source": [
    "print(graph1)\n",
    "print(costs1)\n",
    "print(parents1)"
   ]
  },
  {
   "cell_type": "code",
   "execution_count": 17,
   "metadata": {},
   "outputs": [],
   "source": [
    "# 已处理过的节点\n",
    "processed1 = []"
   ]
  },
  {
   "cell_type": "code",
   "execution_count": 18,
   "metadata": {},
   "outputs": [],
   "source": [
    "# 寻找最小开销cost的节点\n",
    "def find_lowest(costs):\n",
    "    lowest_cost = float('inf')\n",
    "    lowest_cost_node = None\n",
    "    \n",
    "    for nodel, cost in costs.items():\n",
    "        if cost < lowest_cost and nodel not in processed1:\n",
    "            lowest_cost = cost\n",
    "            lowest_cost_node = nodel\n",
    "    return lowest_cost_node"
   ]
  },
  {
   "cell_type": "code",
   "execution_count": 19,
   "metadata": {},
   "outputs": [],
   "source": [
    "# algorithm\n",
    "nodel1 = find_lowest(costs1)\n",
    "while nodel1 is not None:\n",
    "    # obtain the cost and neighbour info of current node\n",
    "    cost1 = costs1[nodel1]\n",
    "    neighbs = graph1[nodel1]\n",
    "    \n",
    "    # loop for the neighbs\n",
    "    for i in neighbs.keys():\n",
    "        new_cost1 = cost1 + neighbs[i]     # 从起点经nodel1到nodel1的邻居i的开销\n",
    "        if new_cost1 < costs1[i]:          # 从起点经nodel1到nodel1的邻居i的开销  与 初始定义的 从起点到nodel1的开销(位置是否经停) 比较\n",
    "            costs1[i] = new_cost1           # 数值小的重新赋值给costs1 即更新costs1表\n",
    "            parents1[i] = nodel1             # 更新parents表，值小的nodel1作为i的父节点\n",
    "    \n",
    "    processed1.append(nodel1)\n",
    "    nodel1 = find_lowest(costs1)"
   ]
  },
  {
   "cell_type": "code",
   "execution_count": 20,
   "metadata": {},
   "outputs": [
    {
     "data": {
      "text/plain": [
       "{'A': 'start', 'B': 'start', 'C': 'A', 'D': 'A', 'final': 'D'}"
      ]
     },
     "execution_count": 20,
     "metadata": {},
     "output_type": "execute_result"
    }
   ],
   "source": [
    "parents1"
   ]
  },
  {
   "cell_type": "code",
   "execution_count": 21,
   "metadata": {},
   "outputs": [
    {
     "data": {
      "text/plain": [
       "8"
      ]
     },
     "execution_count": 21,
     "metadata": {},
     "output_type": "execute_result"
    }
   ],
   "source": [
    "# 从起点到终点的最短路径的总权重：\n",
    "costs1['final']"
   ]
  },
  {
   "cell_type": "code",
   "execution_count": 22,
   "metadata": {},
   "outputs": [
    {
     "name": "stdout",
     "output_type": "stream",
     "text": [
      "start -> A -> D -> final\n"
     ]
    }
   ],
   "source": [
    "# 路径\n",
    "print(parents1[parents1[parents1['final']]],'->',parents1[parents1['final']],'->',parents1['final'],'->','final')"
   ]
  },
  {
   "cell_type": "code",
   "execution_count": 23,
   "metadata": {},
   "outputs": [
    {
     "data": {
      "text/plain": [
       "{'A': 5, 'B': 2, 'C': 9, 'D': 7, 'final': 8}"
      ]
     },
     "execution_count": 23,
     "metadata": {},
     "output_type": "execute_result"
    }
   ],
   "source": [
    "costs1"
   ]
  },
  {
   "cell_type": "code",
   "execution_count": null,
   "metadata": {},
   "outputs": [],
   "source": []
  }
 ],
 "metadata": {
  "kernelspec": {
   "display_name": "Python 3",
   "language": "python",
   "name": "python3"
  },
  "language_info": {
   "codemirror_mode": {
    "name": "ipython",
    "version": 3
   },
   "file_extension": ".py",
   "mimetype": "text/x-python",
   "name": "python",
   "nbconvert_exporter": "python",
   "pygments_lexer": "ipython3",
   "version": "3.6.4"
  }
 },
 "nbformat": 4,
 "nbformat_minor": 2
}
