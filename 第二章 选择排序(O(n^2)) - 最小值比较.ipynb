{
 "cells": [
  {
   "cell_type": "markdown",
   "metadata": {},
   "source": [
    "# 第二章 选择排序"
   ]
  },
  {
   "cell_type": "markdown",
   "metadata": {},
   "source": [
    "## 一、数组和链表"
   ]
  },
  {
   "cell_type": "markdown",
   "metadata": {},
   "source": [
    "- 常见的数组和链表操作的运行时间\n",
    "    \n",
    "            |  数组     |   链表\n",
    "        ----|-----------|-----------        \n",
    "        读取|  O(1)     |    O(n)\n",
    "        ----|-----------|-----------\n",
    "        插入|  O(n)     |    O(1)\n",
    "        ----|-----------|-----------\n",
    "        删除|  O(n)     |    O(1)"
   ]
  },
  {
   "cell_type": "markdown",
   "metadata": {},
   "source": [
    "读取元素："
   ]
  },
  {
   "cell_type": "markdown",
   "metadata": {},
   "source": [
    "- 数组：在数组中随机读取元素时，因为元素索引的存在，使数组的读取效率很高，O(1).\n",
    "- 链表：在链表中，元素并不是在一起，元素的地址存储在前一个元素中。如果需要访问第n个元素，必须先访问第n-1个元素获得第n个元素的地址，以此类推，必须从第1个元素开始访问，依次访问第2,3...直至第n个元素，效率很低，O(n)."
   ]
  },
  {
   "cell_type": "markdown",
   "metadata": {},
   "source": [
    "插入元素："
   ]
  },
  {
   "cell_type": "markdown",
   "metadata": {},
   "source": [
    "- 数组：在数组中插入元素，其后面左右元素的位置均需移动，即后面元素的索引全部改变。如果在数组索引0的位置插入元素，则全部元素均需一定，O(n).\n",
    "- 链表：在链表中，添加元素只需要将其放入内存中，并将其地址存储在前一个元素中，不需要移动元素(即只需要修改它前面元素指向的地址)，O(1).\n",
    "- 链表的内存分配不需要连续，数组的内存分配必须是连续的."
   ]
  },
  {
   "cell_type": "markdown",
   "metadata": {},
   "source": [
    "删除元素："
   ]
  },
  {
   "cell_type": "markdown",
   "metadata": {},
   "source": [
    "- 数组：数组删除元素后， 必须将后面的元素都向前移。不同于插入， 删除元素总能成功。时间复杂度O(n)\n",
    "- 链表：链表只需修改前一个元素指向的地址即可。 时间复杂度O(1) "
   ]
  },
  {
   "cell_type": "markdown",
   "metadata": {},
   "source": [
    "相对于链表，数组使用的更频繁：\n",
    "- 数组支持随机访问，读取速度更快（很多情况下都要求能够随机访问）；\n",
    "- 链表只支持顺序访问：要读取第10个元素，必须先读取前9个元素。"
   ]
  },
  {
   "cell_type": "markdown",
   "metadata": {},
   "source": [
    "## 二、数组和链表小结"
   ]
  },
  {
   "cell_type": "markdown",
   "metadata": {},
   "source": [
    "- 需要存储多个元素时，可使用数组或链表。\n",
    "- 数组的元素都是连在一起的，就像一节节车厢。\n",
    "- 链表的元素是分散开的，其中每个元素都存储了下一个元素的地址。\n",
    "- 数组的读取速度很快。\n",
    "- 链表的插入和删除的速度很快。\n",
    "- 在同一个数组中，所有元素的类型都必须相同（都为int、double等）。"
   ]
  },
  {
   "cell_type": "markdown",
   "metadata": {},
   "source": [
    "## 三、选择排序"
   ]
  },
  {
   "cell_type": "markdown",
   "metadata": {},
   "source": [
    "### 原理：\n",
    "\n",
    "每一次从待排序的数据元素中选出最小（或最大）的一个元素，存放在新序列（空序列）的起始位置，然后，再从**剩余未排序元素**中继续寻找最小（大）元素，然后放到已排序新序列的末尾。以此类推，直到全部待排序的数据元素排完。 "
   ]
  },
  {
   "cell_type": "markdown",
   "metadata": {},
   "source": [
    "选择排序是不稳定的排序方法：\n",
    "如，序列5 8 5 2 9，我们知道第一遍选择第1个元素5会和2交换，那么原序列中两个5的相对前后顺序就被破坏了，所以选择排序是一个不稳定的排序算法"
   ]
  },
  {
   "cell_type": "code",
   "execution_count": 1,
   "metadata": {},
   "outputs": [],
   "source": [
    "# find the smallest element in the list, and returen the index the smallest element\n",
    "def findSmallest(my_list):\n",
    "    # 将第一个元素及其索引作为最小初始元素\n",
    "    smallest = my_list[0]\n",
    "    smallest_index = 0\n",
    "    \n",
    "    # 循环判断：将列表中其他元素与当前最小元素对比，若更小，则重新赋值最小元素\n",
    "    for i in range(len(my_list)):\n",
    "        if my_list[i] < smallest:\n",
    "            smallest = my_list[i]\n",
    "            smallest_index = i\n",
    "    \n",
    "    # 返回最小元素的索引\n",
    "    return smallest_index"
   ]
  },
  {
   "cell_type": "code",
   "execution_count": 2,
   "metadata": {},
   "outputs": [],
   "source": [
    "# 查找到的每一次的最小元素依次存放到新的列表中，构成新的有序列表\n",
    "def selectionSort(my_list):\n",
    "    # 定义新的列表用于存储有序元素\n",
    "    newList = []\n",
    "    \n",
    "    # 循环判断：每find一个最小元素，将其append到newList中，同事在my_list中删除（list.pop(index)方法：无放回取出）\n",
    "    for i in range(len(my_list)):\n",
    "        smallest = findSmallest(my_list)\n",
    "        newList.append(my_list.pop(smallest))   # 算法关键点： my_list.pop(smallest): 无放回取出（原无序序列减少1个，对应有序序列增加1个）\n",
    "    \n",
    "    # 返回新的有序列表\n",
    "    return newList"
   ]
  },
  {
   "cell_type": "code",
   "execution_count": 3,
   "metadata": {},
   "outputs": [
    {
     "data": {
      "text/plain": [
       "[1, 2, 3, 5, 6, 7, 9]"
      ]
     },
     "execution_count": 3,
     "metadata": {},
     "output_type": "execute_result"
    }
   ],
   "source": [
    "selectionSort([3,5,6,9,1,2,7])"
   ]
  },
  {
   "cell_type": "code",
   "execution_count": null,
   "metadata": {},
   "outputs": [],
   "source": []
  }
 ],
 "metadata": {
  "kernelspec": {
   "display_name": "Python 3",
   "language": "python",
   "name": "python3"
  },
  "language_info": {
   "codemirror_mode": {
    "name": "ipython",
    "version": 3
   },
   "file_extension": ".py",
   "mimetype": "text/x-python",
   "name": "python",
   "nbconvert_exporter": "python",
   "pygments_lexer": "ipython3",
   "version": "3.6.4"
  }
 },
 "nbformat": 4,
 "nbformat_minor": 2
}
