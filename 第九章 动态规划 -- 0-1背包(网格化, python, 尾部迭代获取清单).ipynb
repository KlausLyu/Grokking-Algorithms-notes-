{
 "cells": [
  {
   "cell_type": "markdown",
   "metadata": {},
   "source": [
    "# 第九章 动态规划"
   ]
  },
  {
   "cell_type": "code",
   "execution_count": 1,
   "metadata": {},
   "outputs": [],
   "source": [
    "# 参考网址： https://www.cnblogs.com/NEWzyz/p/8929844.html  （有图和计算过程）"
   ]
  },
  {
   "cell_type": "markdown",
   "metadata": {},
   "source": [
    "## 一、动态规划"
   ]
  },
  {
   "cell_type": "markdown",
   "metadata": {},
   "source": [
    "### 动态规划原理：\n",
    "- 先解决子问题，再逐步解决大问题"
   ]
  },
  {
   "cell_type": "markdown",
   "metadata": {},
   "source": [
    "### 背包问题\n",
    "- 常规解法：尝试各种可能的商品组合，并找出最高价值的组合\n",
    "- 缺点：非常慢，算法运行时间为O(2^n)"
   ]
  },
  {
   "cell_type": "markdown",
   "metadata": {},
   "source": [
    "### 1. 动态规划网格化实现（P142）"
   ]
  },
  {
   "cell_type": "markdown",
   "metadata": {},
   "source": [
    "每一个单元格的计算公式：\n",
    "- cell[i-1][j] : 网格中上一个单元格的值\n",
    "- value_current：当前商品的价值\n",
    "- wieght_current：当前商品的重量\n",
    "- cell[i-1][j - wieght_current]：剩余空间的价值"
   ]
  },
  {
   "cell_type": "markdown",
   "metadata": {},
   "source": [
    "#### 计算单元格价值**公式**： \n",
    "- **当前单元格最大价值 = max(上一行对应列单元格的值 , 当前商品的价值+剩余空间的价值)**"
   ]
  },
  {
   "cell_type": "code",
   "execution_count": 2,
   "metadata": {},
   "outputs": [
    {
     "data": {
      "text/plain": [
       "'\\ncell[i][j] = max(cell[i-1,j], value_current + cell[i-1][j - wieght_current])\\n'"
      ]
     },
     "execution_count": 2,
     "metadata": {},
     "output_type": "execute_result"
    }
   ],
   "source": [
    "'''\n",
    "cell[i][j] = max(cell[i-1,j], value_current + cell[i-1][j - wieght_current])\n",
    "'''"
   ]
  },
  {
   "cell_type": "markdown",
   "metadata": {},
   "source": [
    "说明： 如果加入的粒度更小的商品，需要相应调整网格进行粒度的细化"
   ]
  },
  {
   "cell_type": "markdown",
   "metadata": {},
   "source": [
    "如何处理相互依赖的情况？\n",
    "- 动态规划不能处理相互依赖的情况。"
   ]
  },
  {
   "cell_type": "markdown",
   "metadata": {},
   "source": [
    "### 动态规划适用条件：\n",
    "- 仅当每个**子问题都是离散**的，即不依赖于其他子问题时，动态规划才管用\n",
    "- 动态规划追求的是收益最大化，而不是体积利用最大化，因此可能出现收益最高而背包不满的情况"
   ]
  },
  {
   "cell_type": "markdown",
   "metadata": {},
   "source": [
    "### - 练习："
   ]
  },
  {
   "cell_type": "markdown",
   "metadata": {},
   "source": [
    "假设你要去野营。你有一个容量为6磅的背包，需要决定该携带下面的哪些东西。其中每样东西都有相应的价值，价值越大意味着越重要："
   ]
  },
  {
   "cell_type": "markdown",
   "metadata": {},
   "source": [
    " 物品      |    重量/磅 | 价值  |\n",
    " :-------- | --------:| :--: |\n",
    " 水  | 3 |  10   |\n",
    " 书     |   1 |  3 |\n",
    " 食物      |    2 | 9  |\n",
    " 夹克     |   2 |  5  |\n",
    " 相机      |    1 | 6  |"
   ]
  },
  {
   "cell_type": "markdown",
   "metadata": {},
   "source": [
    "动态规划网格：\n",
    "- 动态列自己加的，done表示背包可以包含该物品\n",
    "- 背包容量=6，网格重量粒度可设为1"
   ]
  },
  {
   "cell_type": "markdown",
   "metadata": {},
   "source": [
    "物品/  重量   |    1 | 2  | 3|   4 | 5  | 6|  动态|\n",
    " :-------- | --------:| :--: | :--: | :--: | :--: | \n",
    " W 水  | - |  -   |-|- |  -   |-|\n",
    " B 书     | - |  -   |-|- |  -   |-|\n",
    "F 食物      | - |  -   |-|- |  -   |-|\n",
    "J 夹克     | - |  -   |-|- |  -   |-|\n",
    "C 相机      | - |  -   |-|- |  -   |-|"
   ]
  },
  {
   "cell_type": "markdown",
   "metadata": {},
   "source": [
    "第一步："
   ]
  },
  {
   "cell_type": "markdown",
   "metadata": {},
   "source": [
    "物品/  重量   |    1 | 2  | 3|4 | 5  | 6|  动态| 行号|\n",
    " :-------- | --------:| :--: |:--: |:--: |:--: |:--: |\n",
    " W 水/3  | 0(w) | 0(w)   |10(w)|10(w) |  10(w)   |10(w)|done|1|\n",
    " B 书/1     | - |  -   |-|- |  -   |-|--|2|\n",
    "F  食物/2      | - |  -   |-|- |  -  |- |--|3|\n",
    "J  夹克/2     | - |  -   |-|- |  -  |- |--|4|\n",
    " C 相机/1     | - |  -   |-|- |  -   |-|--|5|"
   ]
  },
  {
   "cell_type": "markdown",
   "metadata": {},
   "source": [
    "第二步："
   ]
  },
  {
   "cell_type": "markdown",
   "metadata": {},
   "source": [
    "物品/  重量   |    1 | 2  | 3|4 | 5  | 6|  动态| 行号|\n",
    " :-------- | --------:| :--: |:--: |:--: |:--: |:--: |\n",
    " W 水/3  | 0(w) | 0(w)   |10(w)|10(w) |  10(w)   |10(w)|done|1|\n",
    " B 书/1     | 0(W) vs 3(B)-> 3(B) |  0(W) vs (3+cell[1,2-1]=3(B)->3(B)|  10(W) vs (3+cell[1,3-1])=3(B) -> 10(W) |10(W) vs (3+cell[1,4-1])=13(WB)->13(WB) |  10(W) vs (3+cell[1,5-1])=13(WB)->13(WB)   |10(W) vs (3+cell[1,6-1])=13(WB)->13(WB)|done|2|\n",
    "F  食物/2      | - |  -   |-|- |  -  |- |--|3|\n",
    "J  夹克/2     | - |  -   |-|- |  -  |- |--|4|\n",
    " C 相机/1      | - |  -   |-|- |  -   |-|--|5|"
   ]
  },
  {
   "cell_type": "markdown",
   "metadata": {},
   "source": [
    "第三步："
   ]
  },
  {
   "cell_type": "markdown",
   "metadata": {},
   "source": [
    "物品/  重量   |    1 | 2  | 3|4 | 5  | 6|  动态| 行号|\n",
    " :-------- | --------:| :--: |:--: |:--: |:--: |:--: |\n",
    " W 水/3  | 0(w) | 0(w)   |10(w)|10(w) |  10(w)   |10(w)|done|1|\n",
    " B 书/1     | 0(W) vs 3(B)-> 3(B) |  0(W) vs (3+cell[1,2-1])=3(B)->3(B)|  10(W) vs (3+cell[1,3-1])=3(B) -> 10(W) |10(W) vs (3+cell[1,4-1])=13(WB)->13(WB) |  10(W) vs (3+cell[1,5-1])=13(WB)->13(WB)   |10(W) vs (3+cell[1,6-1])=13(WB)->13(WB)|done|2|\n",
    "F  食物/2      | 3(B) vs 0-> 3(B) |  3(B) vs (9+cell[2,2-2])=9(F) -> 9(F)   |10(W) vs (9+cell[2,3-2])=12(FB) -> 12(FB)|13(WB) vs (9+cell[2,4-2])=12(FB) -> 13(WB) |  13(WB) vs (9+cell[2,5-2])=19(WF) -> 19(WF)  |13(WB) vs (9+cell[2,6-2])=22(WBF) -> 22(WBF)|done|3|\n",
    "J  夹克/2     | - |  -   |-|- |  -  |- |--|4|\n",
    " C 相机/1      | - |  -   |-|- |  -   |-|--|5|"
   ]
  },
  {
   "cell_type": "markdown",
   "metadata": {},
   "source": [
    "第四步："
   ]
  },
  {
   "cell_type": "markdown",
   "metadata": {},
   "source": [
    "物品/  重量   |    1 | 2  | 3|4 | 5  | 6|  动态| 行号|\n",
    " :-------- | --------:| :--: |:--: |:--: |:--: |:--: |\n",
    " W 水/3  | 0(w) | 0(w)   |10(w)|10(w) |  10(w)   |10(w)|done|1|\n",
    " B 书/1     | 0(W) vs 3(B)-> 3(B) |  0(W) vs (3+cell[1,2-1])=3(B)->3(B)|  10(W) vs (3+cell[1,3-1])=3(B) -> 10(W) |10(W) vs (3+cell[1,4-1])=13(WB)->13(WB) |  10(W) vs (3+cell[1,5-1])=13(WB)->13(WB)   |10(W) vs (3+cell[1,6-1])=13(WB)->13(WB)|done|2|\n",
    "F  食物/2      | 3(B) vs 0-> 3(B) |  3(B) vs (9+cell[2,2-2])=9(F) -> 9(F)   |10(W) vs (9+cell[2,3-2])=12(FB) -> 12(FB)|13(WB) vs (9+cell[2,4-2])=12(FB) -> 13(WB) |  13(WB) vs (9+cell[2,5-2])=19(WF) -> 19(WF)  |13(WB) vs (9+cell[2,6-2])=22(WBF) -> 22(WBF)|done|3|\n",
    "J  夹克/2     |3(B) vs 0-> 3(B)| 9(F) vs (5+cell[3,2-2])=5(J) -> 9(F)   |12(FB) vs (5+cell[3,3-2])=8(BJ) -> 12(FB)|13(WB) vs (5+cell[3,4-2])=14(FJ) -> 14(FJ) |  19(WF) vs (5+cell[3,5-2])=17(FBJ) -> 19(WF)  |22(WBF) vs (5+cell[3,6-2])=18(WBJ) -> 22(WBF) |done|4|\n",
    " C 相机/1      | - |  -   |-|- |  -   |-|--|5|"
   ]
  },
  {
   "cell_type": "markdown",
   "metadata": {},
   "source": [
    "第五步："
   ]
  },
  {
   "cell_type": "markdown",
   "metadata": {},
   "source": [
    "物品/  重量   |    1 | 2  | 3|4 | 5  | 6|  动态| 行号|\n",
    " :-------- | --------:| :--: |:--: |:--: |:--: |:--: |\n",
    " W 水/3  | 0(w) | 0(w)   |10(w)|10(w) |  10(w)   |10(w)|done|1|\n",
    " B 书/1     | 0(W) vs 3(B)-> 3(B) |  0(W) vs (3+cell[1,2-1])=3(B)->3(B)|  10(W) vs (3+cell[1,3-1])=3(B) -> 10(W) |10(W) vs (3+cell[1,4-1])=13(WB)->13(WB) |  10(W) vs (3+cell[1,5-1])=13(WB)->13(WB)   |10(W) vs (3+cell[1,6-1])=13(WB)->13(WB)|done|2|\n",
    "F  食物/2      | 3(B) vs 0-> 3(B) |  3(B) vs (9+cell[2,2-2])=9(F) -> 9(F)   |10(W) vs (9+cell[2,3-2])=12(FB) -> 12(FB)|13(WB) vs (9+cell[2,4-2])=12(FB) -> 13(WB) |  13(WB) vs (9+cell[2,5-2])=19(WF) -> 19(WF)  |13(WB) vs (9+cell[2,6-2])=22(WBF) -> 22(WBF)|done|3|\n",
    "J  夹克/2     |3(B) vs 0-> 3(B)| 9(F) vs (5+cell[3,2-2])=5(J) -> 9(F)   |12(FB) vs (5+cell[3,3-2])=8(BJ) -> 12(FB)|13(WB) vs (5+cell[3,4-2])=14(FJ) -> 14(FJ) |  19(WF) vs (5+cell[3,5-2])=17(FBJ) -> 19(WF)  |22(WBF) vs (5+cell[3,6-2])=18(WBJ) -> 22(WBF) |done|4|\n",
    " C 相机/1      | 3(B) vs 6(C)-> 6(C)|  9(F) vs (6+cell[4,2-1])=9(BC) -> 9(F) / 9(BC)   |12(FB) vs (6+cell[4,3-1])=15(FC) -> 15(FC)|14(FJ) vs (6+cell[4,4-1])=18(CFB) -> 18(CFB) |  19(WF) vs (6+cell[4,5-1])=20(CFJ) -> 20(CFJ)   |22(WBF) vs (6+cell[4,6-1])=25(CWF) -> 25(CWF)|done|5|"
   ]
  },
  {
   "cell_type": "markdown",
   "metadata": {},
   "source": [
    "最终结果：\n",
    "- **cell[5,6] = 25(CWF)**. 即携带 **相机C**, **水W** 和 **食物F** 价值最高。"
   ]
  },
  {
   "cell_type": "markdown",
   "metadata": {},
   "source": [
    "### 2. 动态规划python实现"
   ]
  },
  {
   "cell_type": "markdown",
   "metadata": {},
   "source": [
    "- **代码实现最大价值**"
   ]
  },
  {
   "cell_type": "code",
   "execution_count": 3,
   "metadata": {},
   "outputs": [],
   "source": [
    "# 物品信息散列表\n",
    "weights_dict = {}\n",
    "values_dict = {}\n",
    "things = ['water','book','food','jacket','camera']\n",
    "weights = [3,1,2,2,1]\n",
    "values = [10,3,9,5,6]\n",
    "for i,j in zip(things,weights):\n",
    "    weights_dict[i] = j\n",
    "for i,j in zip(things,values):\n",
    "    values_dict[i] = j\n",
    "# 背包容量\n",
    "volumn = 6"
   ]
  },
  {
   "cell_type": "code",
   "execution_count": 4,
   "metadata": {},
   "outputs": [
    {
     "data": {
      "text/plain": [
       "({'book': 1, 'camera': 1, 'food': 2, 'jacket': 2, 'water': 3},\n",
       " {'book': 3, 'camera': 6, 'food': 9, 'jacket': 5, 'water': 10},\n",
       " 6)"
      ]
     },
     "execution_count": 4,
     "metadata": {},
     "output_type": "execute_result"
    }
   ],
   "source": [
    "weights_dict, values_dict,volumn"
   ]
  },
  {
   "cell_type": "code",
   "execution_count": 5,
   "metadata": {},
   "outputs": [],
   "source": [
    "import numpy as np\n",
    "def bag_solution(weights_dict, values_dict,volumn):\n",
    "    ''' \n",
    "    len(weights_dict) 物品的数量, int\n",
    "    volumn 书包能承受的重量,int\n",
    "    weights_dict[i] 每个物品的重量\n",
    "    values_dict[i] 每个物品的价值\n",
    "    '''\n",
    "    # 初始化为0 （增加辅助行第0行和第0列）\n",
    "    # 有效的res行列索引都是从1开始\n",
    "    resArr = np.zeros((len(weights_dict) + 1,volumn + 1),dtype=int)         # 重量粒度为1是shape=(n,c), 若为0.5， 则shape=(n,2c)\n",
    "    \n",
    "    for i,thing in zip(range(1,len(weights_dict) + 1),things):          # 物品循环\n",
    "        for j in range(1,volumn + 1):                                   # 背包容量循环 \n",
    "            if weights_dict[thing] > j:\n",
    "                resArr[i,j] = resArr[i-1,j]                              # 如果物品的重量大于背包的容量，则最大价值等于同一列的上一行的值\n",
    "            else:\n",
    "                resArr[i,j] = max(resArr[i-1,j], values_dict[thing] + resArr[i - 1,j - weights_dict[thing]])\n",
    "                # values_dict[thing] : 当前商品的价值\n",
    "                # j - weights_dict[thing]： 背包容量 - 当前商品已占用的容量 = 背包的剩余容量\n",
    "    return resArr"
   ]
  },
  {
   "cell_type": "code",
   "execution_count": 6,
   "metadata": {},
   "outputs": [
    {
     "data": {
      "text/plain": [
       "array([[ 0,  0,  0,  0,  0,  0,  0],\n",
       "       [ 0,  0,  0, 10, 10, 10, 10],\n",
       "       [ 0,  3,  3, 10, 13, 13, 13],\n",
       "       [ 0,  3,  9, 12, 13, 19, 22],\n",
       "       [ 0,  3,  9, 12, 14, 19, 22],\n",
       "       [ 0,  6,  9, 15, 18, 20, 25]])"
      ]
     },
     "execution_count": 6,
     "metadata": {},
     "output_type": "execute_result"
    }
   ],
   "source": [
    "bag_solution(weights_dict, values_dict,volumn)"
   ]
  },
  {
   "cell_type": "code",
   "execution_count": 7,
   "metadata": {},
   "outputs": [
    {
     "data": {
      "text/plain": [
       "25"
      ]
     },
     "execution_count": 7,
     "metadata": {},
     "output_type": "execute_result"
    }
   ],
   "source": [
    "bag_solution(weights_dict, values_dict,volumn)[-1,-1]"
   ]
  },
  {
   "cell_type": "markdown",
   "metadata": {},
   "source": [
    "- **代码实现最大价值时对应的物品列表 (尾部迭代)**"
   ]
  },
  {
   "cell_type": "markdown",
   "metadata": {},
   "source": [
    "思路：\n",
    "cell[i][j] = max ( cell[i-1,j] ,  value_current + cell[i-1][j - wieght_current] )\n",
    "- cell[i-1,j] == A ;  value_current + cell[i-1][j - wieght_current] == B\n",
    "\n",
    "\n",
    "- 根据公式，cell[i-1,j] 为上一个单元格的值； value_current为当前单元格所在行的商品的价值；cell[i-1][j - wieght_current]为剩余空间的价值\n",
    "\n",
    "\n",
    "- 当 A >= B 时，**cell[i][j] = cellcell[i-1,j], 列没变，即第 i 行的物品对第 i 行的价值提升没有贡献**，即第 i 行最大价值的物品中不包含第 i 行物品。 （这一点理解很关键）\n",
    "\n",
    "\n",
    "- **针对第 i 行，只有当A < B时，即cell[i-1,j] < cell[i,j] , 第 i 行的物品才对第 i 行的价值提升有贡献**，即在最大价值物品清单中（关键理解点）\n",
    "\n",
    "\n",
    "- 同时说明，在 **cell [i, j] > cell [i-1 , j]的情况**下，**第 i 行的最大价值物品清单是由第 i-1 行及之前的物品组合的**。这里，就需要确定第 i 行最大价值成分中的的剩余空间价值大小和计算剩余价值的列所在。从公式中即可发现列为 第i行最大价值（i,j）中的 j 与第 i 行物品的重量weight_current之差，即 **j - = weight_current **"
   ]
  },
  {
   "cell_type": "code",
   "execution_count": 8,
   "metadata": {},
   "outputs": [],
   "source": [
    "def things_list_find(weights_dict, values_dict,volumn,resArr):\n",
    "    things_list = []\n",
    "    j = volumn\n",
    "    for i,thing in zip(range(len(weights_dict),0,-1),things[::-1]):                # 行逆向循环，从最大价值所在的行  区间 [n,) 前闭后开\n",
    "        if resArr[i,j] > resArr[i-1,j]:                                           # things[::-1] 必须逆序 （原因：正向求解过程中things与[0,n+1]已一一对应）\n",
    "            j -= weights_dict[thing]\n",
    "            things_list.append(thing)\n",
    "            print('j = {},\"{}\" is in the list with max value '.format(j,thing))\n",
    "    return things_list"
   ]
  },
  {
   "cell_type": "code",
   "execution_count": 9,
   "metadata": {},
   "outputs": [
    {
     "name": "stdout",
     "output_type": "stream",
     "text": [
      "j = 5,\"camera\" is in the list with max value \n",
      "j = 3,\"food\" is in the list with max value \n",
      "j = 0,\"water\" is in the list with max value \n"
     ]
    },
    {
     "data": {
      "text/plain": [
       "['camera', 'food', 'water']"
      ]
     },
     "execution_count": 9,
     "metadata": {},
     "output_type": "execute_result"
    }
   ],
   "source": [
    "results_arr = bag_solution(weights_dict, values_dict,volumn)\n",
    "things_list = things_list_find(weights_dict, values_dict,volumn,results_arr)\n",
    "things_list"
   ]
  },
  {
   "cell_type": "markdown",
   "metadata": {},
   "source": [
    "## 二、最长公共子串"
   ]
  },
  {
   "cell_type": "markdown",
   "metadata": {},
   "source": [
    "动态规划的启示：\n",
    "\n",
    "①动态规划可帮助你在给定约束条件下找到最优解。\n",
    "\n",
    "②在问题可分解为彼此独立且离散的子问题时，就可使用动态规划来解决。\n",
    "\n",
    "③每种动态规划解决方案都涉及网格。\n",
    "\n",
    "④单元格中的值通常就是你要优化的值。\n",
    "\n",
    "⑤每个单元格都是一个子问题，因此你应考虑如何将问题分成子问题，这有助于你找出网格的坐标轴。"
   ]
  },
  {
   "cell_type": "markdown",
   "metadata": {},
   "source": [
    "思路：\n",
    "- 网格化\n",
    "- 1）如果两个字母不同，值为0\n",
    "- 2）如果两个字母相同，值为左上角邻居的值加1"
   ]
  },
  {
   "cell_type": "markdown",
   "metadata": {},
   "source": [
    "#### 代码"
   ]
  },
  {
   "cell_type": "code",
   "execution_count": 10,
   "metadata": {},
   "outputs": [],
   "source": [
    "import numpy as np\n",
    "def max_substr(word_a, word_b):\n",
    "    arr = np.zeros((len(word_a),len(word_b)),dtype=np.int)    # grid\n",
    "    for i in range(len(word_a)):\n",
    "        for j in range(len(word_b)):\n",
    "            \n",
    "            if word_a[i] == word_b[j]:               # if...else... 核心逻辑\n",
    "                arr[i,j] = arr[i-1,j-1] + 1\n",
    "            else:\n",
    "                arr[i,j] = 0\n",
    "                \n",
    "    return arr"
   ]
  },
  {
   "cell_type": "code",
   "execution_count": 11,
   "metadata": {},
   "outputs": [
    {
     "data": {
      "text/plain": [
       "array([[0, 0, 0, 0, 0],\n",
       "       [0, 1, 0, 0, 0],\n",
       "       [0, 0, 2, 0, 0],\n",
       "       [0, 0, 0, 3, 0]])"
      ]
     },
     "execution_count": 11,
     "metadata": {},
     "output_type": "execute_result"
    }
   ],
   "source": [
    "str_a = 'blue'\n",
    "str_b = 'clues'\n",
    "max_substr(str_a,str_b)"
   ]
  },
  {
   "cell_type": "markdown",
   "metadata": {},
   "source": [
    "## 三、最长公共子序列\n",
    "- 两个单词中都有的序列包含的字母数"
   ]
  },
  {
   "cell_type": "markdown",
   "metadata": {},
   "source": [
    "思路：\n",
    "- 网格化\n",
    "- 1）如果两个字母不同，当前单元格的值取上方邻居和左方邻居中较大的值 （不同于公共子串）\n",
    "- 2）如果两个字母相同，当前单元格的值设为左上方单元格的值加1 （与公共子串类似）"
   ]
  },
  {
   "cell_type": "markdown",
   "metadata": {},
   "source": [
    "#### 代码"
   ]
  },
  {
   "cell_type": "code",
   "execution_count": 12,
   "metadata": {},
   "outputs": [],
   "source": [
    "import numpy as np\n",
    "def max_substrarg(word_a, word_b):\n",
    "    arr = np.zeros((len(word_a),len(word_b)),dtype=np.int)    # grid\n",
    "    for i in range(len(word_a)):\n",
    "        for j in range(len(word_b)):\n",
    "            \n",
    "            if word_a[i] == word_b[j]:               # if...else... 核心逻辑\n",
    "                arr[i,j] = arr[i-1,j-1] + 1\n",
    "            else:\n",
    "                arr[i,j] = max(arr[i-1,j], arr[i,j-1])\n",
    "                \n",
    "    return arr"
   ]
  },
  {
   "cell_type": "code",
   "execution_count": 13,
   "metadata": {},
   "outputs": [
    {
     "data": {
      "text/plain": [
       "array([[1, 1, 1, 1],\n",
       "       [1, 1, 1, 1],\n",
       "       [1, 1, 2, 2],\n",
       "       [1, 1, 2, 3]])"
      ]
     },
     "execution_count": 13,
     "metadata": {},
     "output_type": "execute_result"
    }
   ],
   "source": [
    "max_substrarg('fosh', 'fish')"
   ]
  },
  {
   "cell_type": "code",
   "execution_count": 14,
   "metadata": {},
   "outputs": [
    {
     "data": {
      "text/plain": [
       "array([[1, 0, 0, 0],\n",
       "       [0, 0, 0, 0],\n",
       "       [0, 0, 1, 0],\n",
       "       [0, 0, 0, 2]])"
      ]
     },
     "execution_count": 14,
     "metadata": {},
     "output_type": "execute_result"
    }
   ],
   "source": [
    "max_substr('fosh', 'fish')"
   ]
  },
  {
   "cell_type": "code",
   "execution_count": null,
   "metadata": {},
   "outputs": [],
   "source": []
  }
 ],
 "metadata": {
  "kernelspec": {
   "display_name": "Python 3",
   "language": "python",
   "name": "python3"
  },
  "language_info": {
   "codemirror_mode": {
    "name": "ipython",
    "version": 3
   },
   "file_extension": ".py",
   "mimetype": "text/x-python",
   "name": "python",
   "nbconvert_exporter": "python",
   "pygments_lexer": "ipython3",
   "version": "3.6.4"
  }
 },
 "nbformat": 4,
 "nbformat_minor": 2
}
