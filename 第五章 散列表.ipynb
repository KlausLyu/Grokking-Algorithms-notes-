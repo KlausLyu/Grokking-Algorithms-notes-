{
 "cells": [
  {
   "cell_type": "markdown",
   "metadata": {},
   "source": [
    "# 第五章 散列表"
   ]
  },
  {
   "cell_type": "markdown",
   "metadata": {},
   "source": [
    "## 一、散列函数"
   ]
  },
  {
   "cell_type": "markdown",
   "metadata": {},
   "source": [
    "散列函数 ： **将输入映射到数字**\n",
    "- python提供的散列表实现为字典dict"
   ]
  },
  {
   "cell_type": "markdown",
   "metadata": {},
   "source": [
    "散列函数必须满足的要求：\n",
    "- 输出必须是一致的。例如，假设你输入apple时得到的是4，那么每次输入apple时，得到的都必须为4。\n",
    "- 应将不同的输入映射到不同的数字。例如，如果一个散列函数不管输入是什么都返回1，那它就不是好的散列函数。最理想的情况是 将不同的输入映射到不同的数字。"
   ]
  },
  {
   "cell_type": "markdown",
   "metadata": {},
   "source": [
    "## 二、应用案例"
   ]
  },
  {
   "cell_type": "markdown",
   "metadata": {},
   "source": [
    "#### 1. 查找： 键值对一一对应"
   ]
  },
  {
   "cell_type": "markdown",
   "metadata": {},
   "source": [
    "#### 2. 防止重复：\n",
    "假如你负责管理一个投票站，每个人只能投一票，如何避免重复投票呢？"
   ]
  },
  {
   "cell_type": "code",
   "execution_count": 2,
   "metadata": {},
   "outputs": [],
   "source": [
    "voted = {} # 创建一个散列表\n",
    "def check_voter(name):\n",
    "    # 判断name在不在voted的键之中\n",
    "    if voted.get(name):\n",
    "        print('Already voted, kick out')\n",
    "    else:\n",
    "        print('Not voted yet, let vote')\n",
    "        # 投票，并赋值value为True作为已投票的标记\n",
    "        voted[name] = True"
   ]
  },
  {
   "cell_type": "code",
   "execution_count": 3,
   "metadata": {},
   "outputs": [
    {
     "name": "stdout",
     "output_type": "stream",
     "text": [
      "Not voted yet, let vote\n"
     ]
    }
   ],
   "source": [
    "check_voter('Tom')"
   ]
  },
  {
   "cell_type": "code",
   "execution_count": 4,
   "metadata": {},
   "outputs": [
    {
     "name": "stdout",
     "output_type": "stream",
     "text": [
      "Not voted yet, let vote\n"
     ]
    }
   ],
   "source": [
    "check_voter('Mike')"
   ]
  },
  {
   "cell_type": "code",
   "execution_count": 5,
   "metadata": {},
   "outputs": [
    {
     "name": "stdout",
     "output_type": "stream",
     "text": [
      "Already voted, kick out\n"
     ]
    }
   ],
   "source": [
    "check_voter('Tom')"
   ]
  },
  {
   "cell_type": "code",
   "execution_count": 6,
   "metadata": {},
   "outputs": [
    {
     "data": {
      "text/plain": [
       "{'Mike': True, 'Tom': True}"
      ]
     },
     "execution_count": 6,
     "metadata": {},
     "output_type": "execute_result"
    }
   ],
   "source": [
    "voted"
   ]
  },
  {
   "cell_type": "markdown",
   "metadata": {},
   "source": [
    "#### 3. 将散列表用于网页缓存\n",
    "缓存是一种常用的加速方式，所有大型网站都使用缓存，而缓存的数据则存储在散列表中。原理：网站将数据记住，而不需要再重新计算"
   ]
  },
  {
   "cell_type": "markdown",
   "metadata": {},
   "source": [
    "缓存的优点：\n",
    "- 用户能够更快地看到网页。\n",
    "- 服务器需要做的工作很少。"
   ]
  },
  {
   "cell_type": "code",
   "execution_count": 9,
   "metadata": {},
   "outputs": [],
   "source": [
    "cache = {}\n",
    "def get_page(url):\n",
    "    if cache.get(url):        # 如果缓存cache中存在url， 则返回缓存内容 cache[url]\n",
    "        return cache[url]\n",
    "    else:\n",
    "        data = get_data_from_server[url]  # 如果url不在cache的key中，则从服务器获取url的网页内容 （该func未定义）\n",
    "        cache[url] = data                 # 同时，将获取的url内容存储到缓存中，方便后续再调用\n",
    "        return data                      # 返回url的页面内容"
   ]
  },
  {
   "cell_type": "markdown",
   "metadata": {},
   "source": [
    "说明：仅当URL不在缓存中时，让服务器做这些处理，并将处理生成的数据存储到缓存中，再返回它。这样，当下次有人请求该URL时，你就可以直接发送缓存中的数据，而不用再让服务器进行处理，耗费资源。"
   ]
  },
  {
   "cell_type": "markdown",
   "metadata": {},
   "source": [
    "#### 应用小结：\n",
    "散列表适用于：\n",
    "- 模拟映射关系\n",
    "- 防止重复\n",
    "- 缓存/记住数据，以免服务器再通过处理来生成他们"
   ]
  },
  {
   "cell_type": "markdown",
   "metadata": {},
   "source": [
    "## 三、冲突"
   ]
  },
  {
   "cell_type": "markdown",
   "metadata": {},
   "source": [
    "#### 冲突：\n",
    "- 将两个或多个键分配到同一个位置。如 字母A开头的单词全部分配在key=A_start的键中，所有A开头的位置均重复，即冲突。"
   ]
  },
  {
   "cell_type": "markdown",
   "metadata": {},
   "source": [
    "#### 冲突解决方法：\n",
    "- 在冲突的位置存储一个链表（最简单的办法）。但是，如果散列表存储的链表很长，散列表的速度会急剧下降（链表优势在于插入和删除，查找很慢）。"
   ]
  },
  {
   "cell_type": "markdown",
   "metadata": {},
   "source": [
    "#### 性能："
   ]
  },
  {
   "cell_type": "markdown",
   "metadata": {},
   "source": [
    "平均情况下，散列表执行各种操作的时间都是O(1)。O(1)被称为常量时间。\n",
    "- 散列表的查找（获取给定索引处的值）速度与数组一样快，而插入和删除速度与链表一样快，因此兼具两者有点。"
   ]
  },
  {
   "cell_type": "markdown",
   "metadata": {},
   "source": [
    "最糟情况下，散列表所有操作的运行时间都为线性时间O(n)"
   ]
  },
  {
   "cell_type": "markdown",
   "metadata": {},
   "source": [
    "因此，在使用散列表时，引避开最糟情况。为此，需要避免冲突。避免冲突需要有：\n",
    "- 较低的填装因子\n",
    "- 良好的散列函数"
   ]
  },
  {
   "cell_type": "markdown",
   "metadata": {},
   "source": [
    "填装因子： 散列表包含的元素书 / 位置总数。\n",
    "- 填装因子越低，发生冲突的可能性越小，散列表的性能越高。\n",
    "- 一个不错的经验：一旦填装因子大于0.7， 就调整散列表的长度。"
   ]
  },
  {
   "cell_type": "markdown",
   "metadata": {},
   "source": [
    "散列函数：良好的散列函数让值的分布更加均匀"
   ]
  },
  {
   "cell_type": "markdown",
   "metadata": {},
   "source": [
    "## 四、小结"
   ]
  },
  {
   "cell_type": "markdown",
   "metadata": {},
   "source": [
    "- 可以结合散列函数和数组来创建散列表。\n",
    "- 散列表的查找、插入和删除的操作速度都非常快。\n",
    "- 散列表适合用于模拟映射的关系。\n",
    "- 散列表可用于缓存数据（例如在Web服务器上）。\n",
    "- 散列表非常适合用于防止重复。"
   ]
  },
  {
   "cell_type": "code",
   "execution_count": null,
   "metadata": {},
   "outputs": [],
   "source": []
  }
 ],
 "metadata": {
  "kernelspec": {
   "display_name": "Python 3",
   "language": "python",
   "name": "python3"
  },
  "language_info": {
   "codemirror_mode": {
    "name": "ipython",
    "version": 3
   },
   "file_extension": ".py",
   "mimetype": "text/x-python",
   "name": "python",
   "nbconvert_exporter": "python",
   "pygments_lexer": "ipython3",
   "version": "3.6.4"
  }
 },
 "nbformat": 4,
 "nbformat_minor": 2
}
